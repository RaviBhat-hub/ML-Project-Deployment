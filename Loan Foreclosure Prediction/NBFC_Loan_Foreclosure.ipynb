{
 "cells": [
  {
   "cell_type": "code",
   "execution_count": 1,
   "metadata": {},
   "outputs": [],
   "source": [
    "import pandas as pd\n",
    "import numpy as np\n",
    "import matplotlib.pyplot as plt\n",
    "import seaborn as sns\n",
    "pd.set_option('mode.chained_assignment',None)"
   ]
  },
  {
   "cell_type": "code",
   "execution_count": 2,
   "metadata": {},
   "outputs": [],
   "source": [
    "data = pd.read_excel('E:/MLProjects/Loan Foreclosure Project/NBFC Loan Transaction Data.xlsx')"
   ]
  },
  {
   "cell_type": "code",
   "execution_count": 3,
   "metadata": {},
   "outputs": [
    {
     "data": {
      "text/plain": [
       "(20012, 53)"
      ]
     },
     "execution_count": 3,
     "metadata": {},
     "output_type": "execute_result"
    }
   ],
   "source": [
    "data.shape"
   ]
  },
  {
   "cell_type": "code",
   "execution_count": 4,
   "metadata": {},
   "outputs": [
    {
     "data": {
      "text/html": [
       "<div>\n",
       "<style scoped>\n",
       "    .dataframe tbody tr th:only-of-type {\n",
       "        vertical-align: middle;\n",
       "    }\n",
       "\n",
       "    .dataframe tbody tr th {\n",
       "        vertical-align: top;\n",
       "    }\n",
       "\n",
       "    .dataframe thead th {\n",
       "        text-align: right;\n",
       "    }\n",
       "</style>\n",
       "<table border=\"1\" class=\"dataframe\">\n",
       "  <thead>\n",
       "    <tr style=\"text-align: right;\">\n",
       "      <th></th>\n",
       "      <th>AGREEMENTID</th>\n",
       "      <th>BALANCE_EXCESS</th>\n",
       "      <th>BALANCE_TENURE</th>\n",
       "      <th>COMPLETED_TENURE</th>\n",
       "      <th>CURRENT_INTEREST_RATE</th>\n",
       "      <th>CURRENT_INTEREST_RATE_MAX</th>\n",
       "      <th>CURRENT_INTEREST_RATE_MIN</th>\n",
       "      <th>CURRENT_INTEREST_RATE_CHANGES</th>\n",
       "      <th>CURRENT_TENOR</th>\n",
       "      <th>CUSTOMERID</th>\n",
       "      <th>...</th>\n",
       "      <th>ORIGNAL_TENOR</th>\n",
       "      <th>OUTSTANDING_PRINCIPAL</th>\n",
       "      <th>PAID_INTEREST</th>\n",
       "      <th>PAID_PRINCIPAL</th>\n",
       "      <th>PRE_EMI_DUEAMT</th>\n",
       "      <th>PRE_EMI_OS_AMOUNT</th>\n",
       "      <th>PRE_EMI_RECEIVED_AMT</th>\n",
       "      <th>SCHEMEID</th>\n",
       "      <th>MOB</th>\n",
       "      <th>FORECLOSURE</th>\n",
       "    </tr>\n",
       "  </thead>\n",
       "  <tbody>\n",
       "    <tr>\n",
       "      <th>count</th>\n",
       "      <td>2.001200e+04</td>\n",
       "      <td>2.001200e+04</td>\n",
       "      <td>20012.000000</td>\n",
       "      <td>20012.000000</td>\n",
       "      <td>20012.000000</td>\n",
       "      <td>20012.000000</td>\n",
       "      <td>20012.000000</td>\n",
       "      <td>20012.000000</td>\n",
       "      <td>20012.000000</td>\n",
       "      <td>1.973100e+04</td>\n",
       "      <td>...</td>\n",
       "      <td>20012.000000</td>\n",
       "      <td>2.001200e+04</td>\n",
       "      <td>2.001200e+04</td>\n",
       "      <td>2.001200e+04</td>\n",
       "      <td>2.001200e+04</td>\n",
       "      <td>2.001200e+04</td>\n",
       "      <td>2.001200e+04</td>\n",
       "      <td>1.973100e+04</td>\n",
       "      <td>20012.000000</td>\n",
       "      <td>20012.000000</td>\n",
       "    </tr>\n",
       "    <tr>\n",
       "      <th>mean</th>\n",
       "      <td>1.123665e+07</td>\n",
       "      <td>7.899598e+04</td>\n",
       "      <td>172.824605</td>\n",
       "      <td>17.269089</td>\n",
       "      <td>14.781931</td>\n",
       "      <td>14.900248</td>\n",
       "      <td>14.301873</td>\n",
       "      <td>0.758095</td>\n",
       "      <td>190.093694</td>\n",
       "      <td>1.201741e+07</td>\n",
       "      <td>...</td>\n",
       "      <td>183.297322</td>\n",
       "      <td>5.212982e+06</td>\n",
       "      <td>9.890547e+05</td>\n",
       "      <td>8.667637e+05</td>\n",
       "      <td>5.780447e+04</td>\n",
       "      <td>2.594779e+02</td>\n",
       "      <td>5.754499e+04</td>\n",
       "      <td>1.090122e+07</td>\n",
       "      <td>18.813612</td>\n",
       "      <td>0.089696</td>\n",
       "    </tr>\n",
       "    <tr>\n",
       "      <th>std</th>\n",
       "      <td>9.626440e+03</td>\n",
       "      <td>1.348636e+06</td>\n",
       "      <td>64.004484</td>\n",
       "      <td>16.486279</td>\n",
       "      <td>2.485858</td>\n",
       "      <td>2.480029</td>\n",
       "      <td>2.677014</td>\n",
       "      <td>1.134323</td>\n",
       "      <td>58.559953</td>\n",
       "      <td>9.490084e+03</td>\n",
       "      <td>...</td>\n",
       "      <td>44.600262</td>\n",
       "      <td>1.152135e+07</td>\n",
       "      <td>3.026053e+06</td>\n",
       "      <td>3.469758e+07</td>\n",
       "      <td>3.776647e+05</td>\n",
       "      <td>1.096744e+04</td>\n",
       "      <td>3.769718e+05</td>\n",
       "      <td>8.890519e+01</td>\n",
       "      <td>16.541875</td>\n",
       "      <td>0.285753</td>\n",
       "    </tr>\n",
       "    <tr>\n",
       "      <th>min</th>\n",
       "      <td>1.122000e+07</td>\n",
       "      <td>0.000000e+00</td>\n",
       "      <td>0.000000</td>\n",
       "      <td>0.000000</td>\n",
       "      <td>9.901017</td>\n",
       "      <td>10.425409</td>\n",
       "      <td>-5.056636</td>\n",
       "      <td>0.000000</td>\n",
       "      <td>6.000000</td>\n",
       "      <td>1.200100e+07</td>\n",
       "      <td>...</td>\n",
       "      <td>14.000000</td>\n",
       "      <td>-7.506479e-01</td>\n",
       "      <td>0.000000e+00</td>\n",
       "      <td>0.000000e+00</td>\n",
       "      <td>0.000000e+00</td>\n",
       "      <td>0.000000e+00</td>\n",
       "      <td>0.000000e+00</td>\n",
       "      <td>1.090110e+07</td>\n",
       "      <td>0.000000</td>\n",
       "      <td>0.000000</td>\n",
       "    </tr>\n",
       "    <tr>\n",
       "      <th>25%</th>\n",
       "      <td>1.122833e+07</td>\n",
       "      <td>0.000000e+00</td>\n",
       "      <td>136.000000</td>\n",
       "      <td>6.000000</td>\n",
       "      <td>12.797658</td>\n",
       "      <td>13.109796</td>\n",
       "      <td>12.423092</td>\n",
       "      <td>0.000000</td>\n",
       "      <td>166.000000</td>\n",
       "      <td>1.200921e+07</td>\n",
       "      <td>...</td>\n",
       "      <td>180.000000</td>\n",
       "      <td>1.428919e+06</td>\n",
       "      <td>1.253319e+05</td>\n",
       "      <td>2.341834e+04</td>\n",
       "      <td>4.768264e+03</td>\n",
       "      <td>0.000000e+00</td>\n",
       "      <td>4.755012e+03</td>\n",
       "      <td>1.090111e+07</td>\n",
       "      <td>7.000000</td>\n",
       "      <td>0.000000</td>\n",
       "    </tr>\n",
       "    <tr>\n",
       "      <th>50%</th>\n",
       "      <td>1.123661e+07</td>\n",
       "      <td>0.000000e+00</td>\n",
       "      <td>174.000000</td>\n",
       "      <td>12.000000</td>\n",
       "      <td>14.545631</td>\n",
       "      <td>14.670486</td>\n",
       "      <td>13.734072</td>\n",
       "      <td>0.000000</td>\n",
       "      <td>180.000000</td>\n",
       "      <td>1.201740e+07</td>\n",
       "      <td>...</td>\n",
       "      <td>180.000000</td>\n",
       "      <td>2.394655e+06</td>\n",
       "      <td>3.097248e+05</td>\n",
       "      <td>7.878650e+04</td>\n",
       "      <td>1.069602e+04</td>\n",
       "      <td>0.000000e+00</td>\n",
       "      <td>1.067945e+04</td>\n",
       "      <td>1.090126e+07</td>\n",
       "      <td>13.000000</td>\n",
       "      <td>0.000000</td>\n",
       "    </tr>\n",
       "    <tr>\n",
       "      <th>75%</th>\n",
       "      <td>1.124496e+07</td>\n",
       "      <td>5.742235e+01</td>\n",
       "      <td>216.000000</td>\n",
       "      <td>25.000000</td>\n",
       "      <td>16.231176</td>\n",
       "      <td>16.543314</td>\n",
       "      <td>16.168748</td>\n",
       "      <td>2.000000</td>\n",
       "      <td>228.000000</td>\n",
       "      <td>1.202562e+07</td>\n",
       "      <td>...</td>\n",
       "      <td>228.000000</td>\n",
       "      <td>4.551204e+06</td>\n",
       "      <td>7.954680e+05</td>\n",
       "      <td>2.917810e+05</td>\n",
       "      <td>3.187879e+04</td>\n",
       "      <td>0.000000e+00</td>\n",
       "      <td>3.180536e+04</td>\n",
       "      <td>1.090129e+07</td>\n",
       "      <td>26.000000</td>\n",
       "      <td>0.000000</td>\n",
       "    </tr>\n",
       "    <tr>\n",
       "      <th>max</th>\n",
       "      <td>1.125335e+07</td>\n",
       "      <td>7.555600e+07</td>\n",
       "      <td>674.000000</td>\n",
       "      <td>98.000000</td>\n",
       "      <td>25.095895</td>\n",
       "      <td>37.456560</td>\n",
       "      <td>24.034626</td>\n",
       "      <td>9.000000</td>\n",
       "      <td>713.000000</td>\n",
       "      <td>1.203390e+07</td>\n",
       "      <td>...</td>\n",
       "      <td>300.000000</td>\n",
       "      <td>3.818367e+08</td>\n",
       "      <td>1.230362e+08</td>\n",
       "      <td>4.885217e+09</td>\n",
       "      <td>3.177540e+07</td>\n",
       "      <td>1.074264e+06</td>\n",
       "      <td>3.177540e+07</td>\n",
       "      <td>1.090146e+07</td>\n",
       "      <td>98.000000</td>\n",
       "      <td>1.000000</td>\n",
       "    </tr>\n",
       "  </tbody>\n",
       "</table>\n",
       "<p>8 rows × 46 columns</p>\n",
       "</div>"
      ],
      "text/plain": [
       "        AGREEMENTID  BALANCE_EXCESS  BALANCE_TENURE  COMPLETED_TENURE  \\\n",
       "count  2.001200e+04    2.001200e+04    20012.000000      20012.000000   \n",
       "mean   1.123665e+07    7.899598e+04      172.824605         17.269089   \n",
       "std    9.626440e+03    1.348636e+06       64.004484         16.486279   \n",
       "min    1.122000e+07    0.000000e+00        0.000000          0.000000   \n",
       "25%    1.122833e+07    0.000000e+00      136.000000          6.000000   \n",
       "50%    1.123661e+07    0.000000e+00      174.000000         12.000000   \n",
       "75%    1.124496e+07    5.742235e+01      216.000000         25.000000   \n",
       "max    1.125335e+07    7.555600e+07      674.000000         98.000000   \n",
       "\n",
       "       CURRENT_INTEREST_RATE  CURRENT_INTEREST_RATE_MAX  \\\n",
       "count           20012.000000               20012.000000   \n",
       "mean               14.781931                  14.900248   \n",
       "std                 2.485858                   2.480029   \n",
       "min                 9.901017                  10.425409   \n",
       "25%                12.797658                  13.109796   \n",
       "50%                14.545631                  14.670486   \n",
       "75%                16.231176                  16.543314   \n",
       "max                25.095895                  37.456560   \n",
       "\n",
       "       CURRENT_INTEREST_RATE_MIN  CURRENT_INTEREST_RATE_CHANGES  \\\n",
       "count               20012.000000                   20012.000000   \n",
       "mean                   14.301873                       0.758095   \n",
       "std                     2.677014                       1.134323   \n",
       "min                    -5.056636                       0.000000   \n",
       "25%                    12.423092                       0.000000   \n",
       "50%                    13.734072                       0.000000   \n",
       "75%                    16.168748                       2.000000   \n",
       "max                    24.034626                       9.000000   \n",
       "\n",
       "       CURRENT_TENOR    CUSTOMERID  ...  ORIGNAL_TENOR  OUTSTANDING_PRINCIPAL  \\\n",
       "count   20012.000000  1.973100e+04  ...   20012.000000           2.001200e+04   \n",
       "mean      190.093694  1.201741e+07  ...     183.297322           5.212982e+06   \n",
       "std        58.559953  9.490084e+03  ...      44.600262           1.152135e+07   \n",
       "min         6.000000  1.200100e+07  ...      14.000000          -7.506479e-01   \n",
       "25%       166.000000  1.200921e+07  ...     180.000000           1.428919e+06   \n",
       "50%       180.000000  1.201740e+07  ...     180.000000           2.394655e+06   \n",
       "75%       228.000000  1.202562e+07  ...     228.000000           4.551204e+06   \n",
       "max       713.000000  1.203390e+07  ...     300.000000           3.818367e+08   \n",
       "\n",
       "       PAID_INTEREST  PAID_PRINCIPAL  PRE_EMI_DUEAMT  PRE_EMI_OS_AMOUNT  \\\n",
       "count   2.001200e+04    2.001200e+04    2.001200e+04       2.001200e+04   \n",
       "mean    9.890547e+05    8.667637e+05    5.780447e+04       2.594779e+02   \n",
       "std     3.026053e+06    3.469758e+07    3.776647e+05       1.096744e+04   \n",
       "min     0.000000e+00    0.000000e+00    0.000000e+00       0.000000e+00   \n",
       "25%     1.253319e+05    2.341834e+04    4.768264e+03       0.000000e+00   \n",
       "50%     3.097248e+05    7.878650e+04    1.069602e+04       0.000000e+00   \n",
       "75%     7.954680e+05    2.917810e+05    3.187879e+04       0.000000e+00   \n",
       "max     1.230362e+08    4.885217e+09    3.177540e+07       1.074264e+06   \n",
       "\n",
       "       PRE_EMI_RECEIVED_AMT      SCHEMEID           MOB   FORECLOSURE  \n",
       "count          2.001200e+04  1.973100e+04  20012.000000  20012.000000  \n",
       "mean           5.754499e+04  1.090122e+07     18.813612      0.089696  \n",
       "std            3.769718e+05  8.890519e+01     16.541875      0.285753  \n",
       "min            0.000000e+00  1.090110e+07      0.000000      0.000000  \n",
       "25%            4.755012e+03  1.090111e+07      7.000000      0.000000  \n",
       "50%            1.067945e+04  1.090126e+07     13.000000      0.000000  \n",
       "75%            3.180536e+04  1.090129e+07     26.000000      0.000000  \n",
       "max            3.177540e+07  1.090146e+07     98.000000      1.000000  \n",
       "\n",
       "[8 rows x 46 columns]"
      ]
     },
     "execution_count": 4,
     "metadata": {},
     "output_type": "execute_result"
    }
   ],
   "source": [
    "data.describe()"
   ]
  },
  {
   "cell_type": "markdown",
   "metadata": {},
   "source": [
    "# EDA & Feature Engineering"
   ]
  },
  {
   "cell_type": "markdown",
   "metadata": {},
   "source": [
    "Checking for Missing values if any"
   ]
  },
  {
   "cell_type": "code",
   "execution_count": 5,
   "metadata": {},
   "outputs": [
    {
     "data": {
      "text/plain": [
       "AGREEMENTID                                0\n",
       "AUTHORIZATIONDATE                          0\n",
       "BALANCE_EXCESS                             0\n",
       "BALANCE_TENURE                             0\n",
       "CITY                                       0\n",
       "COMPLETED_TENURE                           0\n",
       "CURRENT_INTEREST_RATE                      0\n",
       "CURRENT_INTEREST_RATE_MAX                  0\n",
       "CURRENT_INTEREST_RATE_MIN                  0\n",
       "CURRENT_INTEREST_RATE_CHANGES              0\n",
       "CURRENT_TENOR                              0\n",
       "CUSTOMERID                               281\n",
       "DIFF_AUTH_INT_DATE                         0\n",
       "DIFF_CURRENT_INTEREST_RATE_MAX_MIN         0\n",
       "DIFF_EMI_AMOUNT_MAX_MIN                   89\n",
       "DIFF_ORIGINAL_CURRENT_INTEREST_RATE        0\n",
       "DIFF_ORIGINAL_CURRENT_TENOR                0\n",
       "DPD                                        0\n",
       "DUEDAY                                     0\n",
       "EMI_AMOUNT                                 0\n",
       "EMI_DUEAMT                                 0\n",
       "EMI_OS_AMOUNT                              0\n",
       "EMI_RECEIVED_AMT                           0\n",
       "EXCESS_ADJUSTED_AMT                        0\n",
       "EXCESS_AVAILABLE                           0\n",
       "FOIR                                       0\n",
       "INTEREST_START_DATE                        0\n",
       "LAST_RECEIPT_AMOUNT                      247\n",
       "LAST_RECEIPT_DATE                         75\n",
       "LATEST_TRANSACTION_MONTH                  75\n",
       "LOAN_AMT                                   0\n",
       "MAX_EMI_AMOUNT                            89\n",
       "MIN_EMI_AMOUNT                            89\n",
       "MONTHOPENING                               0\n",
       "NET_DISBURSED_AMT                          0\n",
       "NET_LTV                                    0\n",
       "NET_RECEIVABLE                             0\n",
       "NUM_EMI_CHANGES                            0\n",
       "NUM_LOW_FREQ_TRANSACTIONS                  0\n",
       "ORIGNAL_INTEREST_RATE                      0\n",
       "ORIGNAL_TENOR                              0\n",
       "OUTSTANDING_PRINCIPAL                      0\n",
       "PAID_INTEREST                              0\n",
       "PAID_PRINCIPAL                             0\n",
       "PRE_EMI_DUEAMT                             0\n",
       "PRE_EMI_OS_AMOUNT                          0\n",
       "PRE_EMI_RECEIVED_AMT                       0\n",
       "PRODUCT                                    0\n",
       "SCHEMEID                                 281\n",
       "NPA_IN_LAST_MONTH                      19893\n",
       "NPA_IN_CURRENT_MONTH                   19893\n",
       "MOB                                        0\n",
       "FORECLOSURE                                0\n",
       "dtype: int64"
      ]
     },
     "execution_count": 5,
     "metadata": {},
     "output_type": "execute_result"
    }
   ],
   "source": [
    "data.isna().sum()"
   ]
  },
  {
   "cell_type": "markdown",
   "metadata": {},
   "source": [
    "Removing features with highest missing values and other features which are not relevant to the use case."
   ]
  },
  {
   "cell_type": "code",
   "execution_count": 6,
   "metadata": {},
   "outputs": [],
   "source": [
    "drop_cols = ['AGREEMENTID','AUTHORIZATIONDATE','CITY','CUSTOMERID','CURRENT_INTEREST_RATE_MAX','CURRENT_INTEREST_RATE_MIN',\n",
    "            'NPA_IN_LAST_MONTH','NPA_IN_CURRENT_MONTH','SCHEMEID','MAX_EMI_AMOUNT','MIN_EMI_AMOUNT','CURRENT_INTEREST_RATE',\n",
    "            'ORIGNAL_INTEREST_RATE','ORIGNAL_TENOR','CURRENT_TENOR','INTEREST_START_DATE','MOB','EMI_DUEAMT','EMI_RECEIVED_AMT',\n",
    "            'EMI_OS_AMOUNT','EXCESS_AVAILABLE','EXCESS_ADJUSTED_AMT','BALANCE_EXCESS']\n",
    "data.drop(columns=drop_cols,axis=1,inplace=True)"
   ]
  },
  {
   "cell_type": "code",
   "execution_count": 7,
   "metadata": {},
   "outputs": [],
   "source": [
    "# converting the %values to decimals.\n",
    "data['NET_LTV'] = data['NET_LTV']/100"
   ]
  },
  {
   "cell_type": "code",
   "execution_count": 8,
   "metadata": {},
   "outputs": [],
   "source": [
    "#FOIR stands for Fixed Obligations to Income ratio which must range between 0 to 1\n",
    "data['FOIR'] = data['FOIR'].apply(lambda x:0 if x<0 else (1 if x>1 else x ))"
   ]
  },
  {
   "cell_type": "markdown",
   "metadata": {},
   "source": [
    "Changing the datatypes"
   ]
  },
  {
   "cell_type": "code",
   "execution_count": 9,
   "metadata": {},
   "outputs": [],
   "source": [
    "data['FORECLOSURE'] = data['FORECLOSURE'].astype(object)\n",
    "data['PRODUCT'] = data['PRODUCT'].astype(object)\n",
    "data['LATEST_TRANSACTION_MONTH'] = data['LATEST_TRANSACTION_MONTH'].astype(object)"
   ]
  },
  {
   "cell_type": "markdown",
   "metadata": {},
   "source": [
    "Handling missing values"
   ]
  },
  {
   "cell_type": "code",
   "execution_count": 10,
   "metadata": {},
   "outputs": [],
   "source": [
    "data['LAST_RECEIPT_AMOUNT'] = data['LAST_RECEIPT_AMOUNT'].fillna(data['LAST_RECEIPT_AMOUNT'].median())\n",
    "data['DIFF_EMI_AMOUNT_MAX_MIN'] = data['DIFF_EMI_AMOUNT_MAX_MIN'].fillna(data['DIFF_EMI_AMOUNT_MAX_MIN'].median())"
   ]
  },
  {
   "cell_type": "code",
   "execution_count": 11,
   "metadata": {},
   "outputs": [],
   "source": [
    "data.drop(['LAST_RECEIPT_DATE'],axis=1,inplace=True)"
   ]
  },
  {
   "cell_type": "markdown",
   "metadata": {},
   "source": [
    "Splitting dataset to numerical and categorical."
   ]
  },
  {
   "cell_type": "code",
   "execution_count": 12,
   "metadata": {},
   "outputs": [],
   "source": [
    "num_data = data.select_dtypes(include=[np.number])\n",
    "cat_data = data.select_dtypes(exclude=[np.number])"
   ]
  },
  {
   "cell_type": "code",
   "execution_count": 13,
   "metadata": {},
   "outputs": [
    {
     "data": {
      "text/plain": [
       "(20012, 26)"
      ]
     },
     "execution_count": 13,
     "metadata": {},
     "output_type": "execute_result"
    }
   ],
   "source": [
    "num_data.shape"
   ]
  },
  {
   "cell_type": "code",
   "execution_count": 14,
   "metadata": {},
   "outputs": [
    {
     "data": {
      "text/plain": [
       "(20012, 3)"
      ]
     },
     "execution_count": 14,
     "metadata": {},
     "output_type": "execute_result"
    }
   ],
   "source": [
    "cat_data.shape"
   ]
  },
  {
   "cell_type": "code",
   "execution_count": 15,
   "metadata": {},
   "outputs": [],
   "source": [
    "cat_data['LATEST_TRANSACTION_MONTH'] = cat_data['LATEST_TRANSACTION_MONTH'].fillna(cat_data['LATEST_TRANSACTION_MONTH'].mode()[0])"
   ]
  },
  {
   "cell_type": "code",
   "execution_count": 16,
   "metadata": {},
   "outputs": [
    {
     "data": {
      "text/plain": [
       "array([[<matplotlib.axes._subplots.AxesSubplot object at 0x0000023987138688>,\n",
       "        <matplotlib.axes._subplots.AxesSubplot object at 0x00000239877FE388>,\n",
       "        <matplotlib.axes._subplots.AxesSubplot object at 0x000002398782DF48>,\n",
       "        <matplotlib.axes._subplots.AxesSubplot object at 0x00000239843F1E88>,\n",
       "        <matplotlib.axes._subplots.AxesSubplot object at 0x00000239847E37C8>],\n",
       "       [<matplotlib.axes._subplots.AxesSubplot object at 0x0000023983C630C8>,\n",
       "        <matplotlib.axes._subplots.AxesSubplot object at 0x0000023984345D08>,\n",
       "        <matplotlib.axes._subplots.AxesSubplot object at 0x0000023984571AC8>,\n",
       "        <matplotlib.axes._subplots.AxesSubplot object at 0x0000023984135748>,\n",
       "        <matplotlib.axes._subplots.AxesSubplot object at 0x00000239823B3B88>],\n",
       "       [<matplotlib.axes._subplots.AxesSubplot object at 0x00000239823834C8>,\n",
       "        <matplotlib.axes._subplots.AxesSubplot object at 0x0000023982385F88>,\n",
       "        <matplotlib.axes._subplots.AxesSubplot object at 0x0000023985C50A88>,\n",
       "        <matplotlib.axes._subplots.AxesSubplot object at 0x0000023985C336C8>,\n",
       "        <matplotlib.axes._subplots.AxesSubplot object at 0x000002398443F108>],\n",
       "       [<matplotlib.axes._subplots.AxesSubplot object at 0x0000023984EA4F08>,\n",
       "        <matplotlib.axes._subplots.AxesSubplot object at 0x0000023984850088>,\n",
       "        <matplotlib.axes._subplots.AxesSubplot object at 0x0000023984836188>,\n",
       "        <matplotlib.axes._subplots.AxesSubplot object at 0x000002398482E248>,\n",
       "        <matplotlib.axes._subplots.AxesSubplot object at 0x0000023985D3B388>],\n",
       "       [<matplotlib.axes._subplots.AxesSubplot object at 0x0000023985C904C8>,\n",
       "        <matplotlib.axes._subplots.AxesSubplot object at 0x000002398490E5C8>,\n",
       "        <matplotlib.axes._subplots.AxesSubplot object at 0x00000239841276C8>,\n",
       "        <matplotlib.axes._subplots.AxesSubplot object at 0x0000023984479808>,\n",
       "        <matplotlib.axes._subplots.AxesSubplot object at 0x0000023985BBA848>],\n",
       "       [<matplotlib.axes._subplots.AxesSubplot object at 0x0000023985C7F948>,\n",
       "        <matplotlib.axes._subplots.AxesSubplot object at 0x00000239848C2A88>,\n",
       "        <matplotlib.axes._subplots.AxesSubplot object at 0x00000239843A0C48>,\n",
       "        <matplotlib.axes._subplots.AxesSubplot object at 0x0000023984422E08>,\n",
       "        <matplotlib.axes._subplots.AxesSubplot object at 0x0000023984257FC8>]],\n",
       "      dtype=object)"
      ]
     },
     "execution_count": 16,
     "metadata": {},
     "output_type": "execute_result"
    },
    {
     "data": {
      "image/png": "[encoded data removed]",
      "text/plain": [
       "<Figure size 1440x1800 with 30 Axes>"
      ]
     },
     "metadata": {
      "needs_background": "light"
     },
     "output_type": "display_data"
    }
   ],
   "source": [
    "num_data.hist(bins=30,figsize=(20,25))"
   ]
  },
  {
   "cell_type": "code",
   "execution_count": 17,
   "metadata": {},
   "outputs": [
    {
     "data": {
      "text/plain": [
       "<matplotlib.axes._subplots.AxesSubplot at 0x239838c8c48>"
      ]
     },
     "execution_count": 17,
     "metadata": {},
     "output_type": "execute_result"
    },
    {
     "data": {
      "image/png": "[encoded data removed]",
      "text/plain": [
       "<Figure size 432x288 with 1 Axes>"
      ]
     },
     "metadata": {
      "needs_background": "light"
     },
     "output_type": "display_data"
    }
   ],
   "source": [
    "sns.barplot(x='PRODUCT',y='FORECLOSURE',data=data)"
   ]
  },
  {
   "cell_type": "code",
   "execution_count": 18,
   "metadata": {},
   "outputs": [
    {
     "data": {
      "text/plain": [
       "<matplotlib.axes._subplots.AxesSubplot at 0x23983a52908>"
      ]
     },
     "execution_count": 18,
     "metadata": {},
     "output_type": "execute_result"
    },
    {
     "data": {
      "image/png": "[encoded data removed]",
      "text/plain": [
       "<Figure size 432x288 with 1 Axes>"
      ]
     },
     "metadata": {
      "needs_background": "light"
     },
     "output_type": "display_data"
    }
   ],
   "source": [
    "sns.countplot(x='PRODUCT',hue='FORECLOSURE',data=data)"
   ]
  },
  {
   "cell_type": "code",
   "execution_count": 19,
   "metadata": {},
   "outputs": [
    {
     "data": {
      "text/plain": [
       "<matplotlib.axes._subplots.AxesSubplot at 0x23983a8c2c8>"
      ]
     },
     "execution_count": 19,
     "metadata": {},
     "output_type": "execute_result"
    },
    {
     "data": {
      "image/png": "[encoded data removed]",
      "text/plain": [
       "<Figure size 432x288 with 1 Axes>"
      ]
     },
     "metadata": {
      "needs_background": "light"
     },
     "output_type": "display_data"
    }
   ],
   "source": [
    "data['PRODUCT'].value_counts().plot(kind='bar')"
   ]
  },
  {
   "cell_type": "markdown",
   "metadata": {},
   "source": [
    "Key takeaways from <b>EDA</b>\n",
    "\n",
    "1. More number fof customers have taken STHL(Short Term Home Loan).\n",
    "2. Foreclosures have been high in case of HL(Home Loans) followed by STLAP(Short Term Loan Against Property)\n",
    "3. In most of the scenarios, FOIR is ranging between 0.4 to 0.6. i.e Nearly 40%-60% of customers income is deducted\n",
    "   for fixed obligations such as EMI.\n",
    "4. Net_LTV i.e Loan-to-Value ratio is ranging between 0.5 to 0.7 in most cases which implies that customer requests loan amount\n",
    "   almost nearer to the appraised value."
   ]
  },
  {
   "cell_type": "markdown",
   "metadata": {},
   "source": [
    "Handling outliers using capping method."
   ]
  },
  {
   "cell_type": "code",
   "execution_count": 20,
   "metadata": {},
   "outputs": [],
   "source": [
    "for col in num_data.columns:\n",
    "    quantiles = num_data[col].quantile([0.25,0.75]).values\n",
    "    cap = num_data[col].quantile([0.05,0.95]).values\n",
    "    num_data[col][num_data[col] <= quantiles[0]] = cap[0]\n",
    "    num_data[col][num_data[col] >= quantiles[1]] = cap[1]"
   ]
  },
  {
   "cell_type": "code",
   "execution_count": 21,
   "metadata": {},
   "outputs": [],
   "source": [
    "#dropping the columns which are irrelavant\n",
    "num_data.drop(columns=['DIFF_AUTH_INT_DATE','DPD','PRE_EMI_OS_AMOUNT'],inplace=True)"
   ]
  },
  {
   "cell_type": "code",
   "execution_count": 43,
   "metadata": {},
   "outputs": [],
   "source": [
    "#scaling the data.\n",
    "from sklearn.preprocessing import StandardScaler\n",
    "scaler = StandardScaler()\n",
    "num_data_scaled = scaler.fit_transform(num_data)"
   ]
  },
  {
   "cell_type": "code",
   "execution_count": 44,
   "metadata": {},
   "outputs": [
    {
     "data": {
      "text/html": [
       "<div>\n",
       "<style scoped>\n",
       "    .dataframe tbody tr th:only-of-type {\n",
       "        vertical-align: middle;\n",
       "    }\n",
       "\n",
       "    .dataframe tbody tr th {\n",
       "        vertical-align: top;\n",
       "    }\n",
       "\n",
       "    .dataframe thead th {\n",
       "        text-align: right;\n",
       "    }\n",
       "</style>\n",
       "<table border=\"1\" class=\"dataframe\">\n",
       "  <thead>\n",
       "    <tr style=\"text-align: right;\">\n",
       "      <th></th>\n",
       "      <th>VIF</th>\n",
       "      <th>Features</th>\n",
       "    </tr>\n",
       "  </thead>\n",
       "  <tbody>\n",
       "    <tr>\n",
       "      <th>0</th>\n",
       "      <td>1.624836</td>\n",
       "      <td>BALANCE_TENURE</td>\n",
       "    </tr>\n",
       "    <tr>\n",
       "      <th>1</th>\n",
       "      <td>2.240952</td>\n",
       "      <td>COMPLETED_TENURE</td>\n",
       "    </tr>\n",
       "    <tr>\n",
       "      <th>2</th>\n",
       "      <td>2.249267</td>\n",
       "      <td>CURRENT_INTEREST_RATE_CHANGES</td>\n",
       "    </tr>\n",
       "    <tr>\n",
       "      <th>3</th>\n",
       "      <td>2.670996</td>\n",
       "      <td>DIFF_EMI_AMOUNT_MAX_MIN</td>\n",
       "    </tr>\n",
       "    <tr>\n",
       "      <th>4</th>\n",
       "      <td>2.316808</td>\n",
       "      <td>DIFF_ORIGINAL_CURRENT_TENOR</td>\n",
       "    </tr>\n",
       "    <tr>\n",
       "      <th>5</th>\n",
       "      <td>6.730976</td>\n",
       "      <td>EMI_AMOUNT</td>\n",
       "    </tr>\n",
       "    <tr>\n",
       "      <th>6</th>\n",
       "      <td>1.333296</td>\n",
       "      <td>FOIR</td>\n",
       "    </tr>\n",
       "    <tr>\n",
       "      <th>7</th>\n",
       "      <td>6.015480</td>\n",
       "      <td>LAST_RECEIPT_AMOUNT</td>\n",
       "    </tr>\n",
       "    <tr>\n",
       "      <th>8</th>\n",
       "      <td>1.166699</td>\n",
       "      <td>NET_LTV</td>\n",
       "    </tr>\n",
       "    <tr>\n",
       "      <th>9</th>\n",
       "      <td>1.126672</td>\n",
       "      <td>NET_RECEIVABLE</td>\n",
       "    </tr>\n",
       "    <tr>\n",
       "      <th>10</th>\n",
       "      <td>1.679025</td>\n",
       "      <td>NUM_EMI_CHANGES</td>\n",
       "    </tr>\n",
       "    <tr>\n",
       "      <th>11</th>\n",
       "      <td>1.726394</td>\n",
       "      <td>NUM_LOW_FREQ_TRANSACTIONS</td>\n",
       "    </tr>\n",
       "    <tr>\n",
       "      <th>12</th>\n",
       "      <td>3.738223</td>\n",
       "      <td>OUTSTANDING_PRINCIPAL</td>\n",
       "    </tr>\n",
       "    <tr>\n",
       "      <th>13</th>\n",
       "      <td>3.167880</td>\n",
       "      <td>PAID_INTEREST</td>\n",
       "    </tr>\n",
       "    <tr>\n",
       "      <th>14</th>\n",
       "      <td>2.309990</td>\n",
       "      <td>PAID_PRINCIPAL</td>\n",
       "    </tr>\n",
       "  </tbody>\n",
       "</table>\n",
       "</div>"
      ],
      "text/plain": [
       "         VIF                       Features\n",
       "0   1.624836                 BALANCE_TENURE\n",
       "1   2.240952               COMPLETED_TENURE\n",
       "2   2.249267  CURRENT_INTEREST_RATE_CHANGES\n",
       "3   2.670996        DIFF_EMI_AMOUNT_MAX_MIN\n",
       "4   2.316808    DIFF_ORIGINAL_CURRENT_TENOR\n",
       "5   6.730976                     EMI_AMOUNT\n",
       "6   1.333296                           FOIR\n",
       "7   6.015480            LAST_RECEIPT_AMOUNT\n",
       "8   1.166699                        NET_LTV\n",
       "9   1.126672                 NET_RECEIVABLE\n",
       "10  1.679025                NUM_EMI_CHANGES\n",
       "11  1.726394      NUM_LOW_FREQ_TRANSACTIONS\n",
       "12  3.738223          OUTSTANDING_PRINCIPAL\n",
       "13  3.167880                  PAID_INTEREST\n",
       "14  2.309990                 PAID_PRINCIPAL"
      ]
     },
     "execution_count": 44,
     "metadata": {},
     "output_type": "execute_result"
    }
   ],
   "source": [
    "#checking VIF\n",
    "from statsmodels.stats.outliers_influence import variance_inflation_factor\n",
    "vif = pd.DataFrame()\n",
    "vif['VIF'] = [variance_inflation_factor(num_data_scaled,i) for i in range(num_data_scaled.shape[1])]\n",
    "vif['Features'] = num_data.columns\n",
    "vif"
   ]
  },
  {
   "cell_type": "code",
   "execution_count": 24,
   "metadata": {},
   "outputs": [],
   "source": [
    "num_data.drop(columns=['DUEDAY'],inplace=True)"
   ]
  },
  {
   "cell_type": "code",
   "execution_count": 27,
   "metadata": {},
   "outputs": [],
   "source": [
    "num_data.drop(columns=['PRE_EMI_DUEAMT','PRE_EMI_RECEIVED_AMT'],inplace=True)"
   ]
  },
  {
   "cell_type": "code",
   "execution_count": 30,
   "metadata": {},
   "outputs": [],
   "source": [
    "num_data.drop(columns=['NET_DISBURSED_AMT'],inplace=True)"
   ]
  },
  {
   "cell_type": "code",
   "execution_count": 33,
   "metadata": {},
   "outputs": [],
   "source": [
    "num_data.drop(columns=['MONTHOPENING'],inplace=True)"
   ]
  },
  {
   "cell_type": "code",
   "execution_count": 36,
   "metadata": {},
   "outputs": [],
   "source": [
    "num_data.drop(columns=['LOAN_AMT'],inplace=True)"
   ]
  },
  {
   "cell_type": "code",
   "execution_count": 39,
   "metadata": {},
   "outputs": [],
   "source": [
    "num_data.drop(columns=['DIFF_CURRENT_INTEREST_RATE_MAX_MIN'],inplace=True)"
   ]
  },
  {
   "cell_type": "code",
   "execution_count": 39,
   "metadata": {},
   "outputs": [],
   "source": [
    "num_data.drop(columns=['EMI_AMOUNT'],inplace=True)"
   ]
  },
  {
   "cell_type": "code",
   "execution_count": 42,
   "metadata": {},
   "outputs": [],
   "source": [
    "num_data.drop(columns=['DIFF_ORIGINAL_CURRENT_INTEREST_RATE'],inplace=True)"
   ]
  },
  {
   "cell_type": "markdown",
   "metadata": {},
   "source": [
    "From code no [24] to [43] the features have been removed based on VIF>5 in every iteration"
   ]
  },
  {
   "cell_type": "code",
   "execution_count": 45,
   "metadata": {},
   "outputs": [],
   "source": [
    "num_data_scaled = pd.DataFrame(num_data_scaled,columns=num_data.columns)"
   ]
  },
  {
   "cell_type": "code",
   "execution_count": 46,
   "metadata": {},
   "outputs": [
    {
     "data": {
      "text/html": [
       "<div>\n",
       "<style scoped>\n",
       "    .dataframe tbody tr th:only-of-type {\n",
       "        vertical-align: middle;\n",
       "    }\n",
       "\n",
       "    .dataframe tbody tr th {\n",
       "        vertical-align: top;\n",
       "    }\n",
       "\n",
       "    .dataframe thead th {\n",
       "        text-align: right;\n",
       "    }\n",
       "</style>\n",
       "<table border=\"1\" class=\"dataframe\">\n",
       "  <thead>\n",
       "    <tr style=\"text-align: right;\">\n",
       "      <th></th>\n",
       "      <th>BALANCE_TENURE</th>\n",
       "      <th>COMPLETED_TENURE</th>\n",
       "      <th>CURRENT_INTEREST_RATE_CHANGES</th>\n",
       "      <th>DIFF_EMI_AMOUNT_MAX_MIN</th>\n",
       "      <th>DIFF_ORIGINAL_CURRENT_TENOR</th>\n",
       "      <th>EMI_AMOUNT</th>\n",
       "      <th>FOIR</th>\n",
       "      <th>LAST_RECEIPT_AMOUNT</th>\n",
       "      <th>NET_LTV</th>\n",
       "      <th>NET_RECEIVABLE</th>\n",
       "      <th>NUM_EMI_CHANGES</th>\n",
       "      <th>NUM_LOW_FREQ_TRANSACTIONS</th>\n",
       "      <th>OUTSTANDING_PRINCIPAL</th>\n",
       "      <th>PAID_INTEREST</th>\n",
       "      <th>PAID_PRINCIPAL</th>\n",
       "    </tr>\n",
       "  </thead>\n",
       "  <tbody>\n",
       "    <tr>\n",
       "      <th>0</th>\n",
       "      <td>-1.412103</td>\n",
       "      <td>1.630326</td>\n",
       "      <td>0.050521</td>\n",
       "      <td>1.724856</td>\n",
       "      <td>0.692347</td>\n",
       "      <td>1.711600</td>\n",
       "      <td>0.089319</td>\n",
       "      <td>1.720902</td>\n",
       "      <td>-0.426162</td>\n",
       "      <td>0.72186</td>\n",
       "      <td>-0.744605</td>\n",
       "      <td>-1.037269</td>\n",
       "      <td>-0.753419</td>\n",
       "      <td>1.718136</td>\n",
       "      <td>1.727863</td>\n",
       "    </tr>\n",
       "    <tr>\n",
       "      <th>1</th>\n",
       "      <td>-1.412103</td>\n",
       "      <td>1.630326</td>\n",
       "      <td>-0.708510</td>\n",
       "      <td>-0.698768</td>\n",
       "      <td>0.692347</td>\n",
       "      <td>1.711600</td>\n",
       "      <td>0.089319</td>\n",
       "      <td>1.720902</td>\n",
       "      <td>1.309354</td>\n",
       "      <td>0.72186</td>\n",
       "      <td>-0.744605</td>\n",
       "      <td>-1.037269</td>\n",
       "      <td>1.714859</td>\n",
       "      <td>1.718136</td>\n",
       "      <td>1.727863</td>\n",
       "    </tr>\n",
       "    <tr>\n",
       "      <th>2</th>\n",
       "      <td>1.352109</td>\n",
       "      <td>1.630326</td>\n",
       "      <td>1.568583</td>\n",
       "      <td>1.724856</td>\n",
       "      <td>-1.656895</td>\n",
       "      <td>-0.421281</td>\n",
       "      <td>1.528187</td>\n",
       "      <td>-0.472639</td>\n",
       "      <td>-0.003926</td>\n",
       "      <td>0.72186</td>\n",
       "      <td>-0.744605</td>\n",
       "      <td>1.255020</td>\n",
       "      <td>-0.420384</td>\n",
       "      <td>1.718136</td>\n",
       "      <td>1.727863</td>\n",
       "    </tr>\n",
       "    <tr>\n",
       "      <th>3</th>\n",
       "      <td>-1.412103</td>\n",
       "      <td>1.630326</td>\n",
       "      <td>1.568583</td>\n",
       "      <td>1.724856</td>\n",
       "      <td>0.692347</td>\n",
       "      <td>1.711600</td>\n",
       "      <td>0.089319</td>\n",
       "      <td>1.720902</td>\n",
       "      <td>1.309354</td>\n",
       "      <td>0.72186</td>\n",
       "      <td>0.134979</td>\n",
       "      <td>1.255020</td>\n",
       "      <td>-0.753419</td>\n",
       "      <td>1.718136</td>\n",
       "      <td>1.727863</td>\n",
       "    </tr>\n",
       "    <tr>\n",
       "      <th>4</th>\n",
       "      <td>0.554321</td>\n",
       "      <td>1.630326</td>\n",
       "      <td>1.568583</td>\n",
       "      <td>-0.698768</td>\n",
       "      <td>-1.656895</td>\n",
       "      <td>1.711600</td>\n",
       "      <td>1.528187</td>\n",
       "      <td>1.720902</td>\n",
       "      <td>-1.425982</td>\n",
       "      <td>0.72186</td>\n",
       "      <td>-0.744605</td>\n",
       "      <td>1.255020</td>\n",
       "      <td>1.714859</td>\n",
       "      <td>1.718136</td>\n",
       "      <td>1.727863</td>\n",
       "    </tr>\n",
       "    <tr>\n",
       "      <th>...</th>\n",
       "      <td>...</td>\n",
       "      <td>...</td>\n",
       "      <td>...</td>\n",
       "      <td>...</td>\n",
       "      <td>...</td>\n",
       "      <td>...</td>\n",
       "      <td>...</td>\n",
       "      <td>...</td>\n",
       "      <td>...</td>\n",
       "      <td>...</td>\n",
       "      <td>...</td>\n",
       "      <td>...</td>\n",
       "      <td>...</td>\n",
       "      <td>...</td>\n",
       "      <td>...</td>\n",
       "    </tr>\n",
       "    <tr>\n",
       "      <th>20007</th>\n",
       "      <td>1.352109</td>\n",
       "      <td>-0.963773</td>\n",
       "      <td>-0.708510</td>\n",
       "      <td>-0.524513</td>\n",
       "      <td>0.692347</td>\n",
       "      <td>-0.780495</td>\n",
       "      <td>1.528187</td>\n",
       "      <td>-0.723980</td>\n",
       "      <td>0.548529</td>\n",
       "      <td>0.72186</td>\n",
       "      <td>-0.744605</td>\n",
       "      <td>-1.037269</td>\n",
       "      <td>1.714859</td>\n",
       "      <td>-0.726261</td>\n",
       "      <td>-0.649079</td>\n",
       "    </tr>\n",
       "    <tr>\n",
       "      <th>20008</th>\n",
       "      <td>1.352109</td>\n",
       "      <td>-0.963773</td>\n",
       "      <td>-0.708510</td>\n",
       "      <td>-0.698768</td>\n",
       "      <td>0.692347</td>\n",
       "      <td>-0.780495</td>\n",
       "      <td>-0.054568</td>\n",
       "      <td>-0.723980</td>\n",
       "      <td>-0.283858</td>\n",
       "      <td>0.72186</td>\n",
       "      <td>-0.744605</td>\n",
       "      <td>-1.037269</td>\n",
       "      <td>-0.519868</td>\n",
       "      <td>-0.726261</td>\n",
       "      <td>-0.649079</td>\n",
       "    </tr>\n",
       "    <tr>\n",
       "      <th>20009</th>\n",
       "      <td>-1.412103</td>\n",
       "      <td>-0.963773</td>\n",
       "      <td>-0.708510</td>\n",
       "      <td>-0.698768</td>\n",
       "      <td>0.692347</td>\n",
       "      <td>-0.780495</td>\n",
       "      <td>0.233206</td>\n",
       "      <td>-0.723980</td>\n",
       "      <td>-1.425982</td>\n",
       "      <td>0.72186</td>\n",
       "      <td>-0.744605</td>\n",
       "      <td>-1.037269</td>\n",
       "      <td>1.714859</td>\n",
       "      <td>-0.726261</td>\n",
       "      <td>-0.649079</td>\n",
       "    </tr>\n",
       "    <tr>\n",
       "      <th>20010</th>\n",
       "      <td>-1.412103</td>\n",
       "      <td>-0.963773</td>\n",
       "      <td>-0.708510</td>\n",
       "      <td>-0.698768</td>\n",
       "      <td>0.692347</td>\n",
       "      <td>-0.614500</td>\n",
       "      <td>-0.126511</td>\n",
       "      <td>-0.624456</td>\n",
       "      <td>-0.037066</td>\n",
       "      <td>0.72186</td>\n",
       "      <td>-0.744605</td>\n",
       "      <td>-1.037269</td>\n",
       "      <td>1.714859</td>\n",
       "      <td>-0.726261</td>\n",
       "      <td>-0.649079</td>\n",
       "    </tr>\n",
       "    <tr>\n",
       "      <th>20011</th>\n",
       "      <td>-1.412103</td>\n",
       "      <td>-0.963773</td>\n",
       "      <td>-0.708510</td>\n",
       "      <td>-0.698768</td>\n",
       "      <td>0.692347</td>\n",
       "      <td>-0.780495</td>\n",
       "      <td>-1.169691</td>\n",
       "      <td>-0.723980</td>\n",
       "      <td>-0.210561</td>\n",
       "      <td>0.72186</td>\n",
       "      <td>-0.744605</td>\n",
       "      <td>-1.037269</td>\n",
       "      <td>1.714859</td>\n",
       "      <td>-0.726261</td>\n",
       "      <td>-0.649079</td>\n",
       "    </tr>\n",
       "  </tbody>\n",
       "</table>\n",
       "<p>20012 rows × 15 columns</p>\n",
       "</div>"
      ],
      "text/plain": [
       "       BALANCE_TENURE  COMPLETED_TENURE  CURRENT_INTEREST_RATE_CHANGES  \\\n",
       "0           -1.412103          1.630326                       0.050521   \n",
       "1           -1.412103          1.630326                      -0.708510   \n",
       "2            1.352109          1.630326                       1.568583   \n",
       "3           -1.412103          1.630326                       1.568583   \n",
       "4            0.554321          1.630326                       1.568583   \n",
       "...               ...               ...                            ...   \n",
       "20007        1.352109         -0.963773                      -0.708510   \n",
       "20008        1.352109         -0.963773                      -0.708510   \n",
       "20009       -1.412103         -0.963773                      -0.708510   \n",
       "20010       -1.412103         -0.963773                      -0.708510   \n",
       "20011       -1.412103         -0.963773                      -0.708510   \n",
       "\n",
       "       DIFF_EMI_AMOUNT_MAX_MIN  DIFF_ORIGINAL_CURRENT_TENOR  EMI_AMOUNT  \\\n",
       "0                     1.724856                     0.692347    1.711600   \n",
       "1                    -0.698768                     0.692347    1.711600   \n",
       "2                     1.724856                    -1.656895   -0.421281   \n",
       "3                     1.724856                     0.692347    1.711600   \n",
       "4                    -0.698768                    -1.656895    1.711600   \n",
       "...                        ...                          ...         ...   \n",
       "20007                -0.524513                     0.692347   -0.780495   \n",
       "20008                -0.698768                     0.692347   -0.780495   \n",
       "20009                -0.698768                     0.692347   -0.780495   \n",
       "20010                -0.698768                     0.692347   -0.614500   \n",
       "20011                -0.698768                     0.692347   -0.780495   \n",
       "\n",
       "           FOIR  LAST_RECEIPT_AMOUNT   NET_LTV  NET_RECEIVABLE  \\\n",
       "0      0.089319             1.720902 -0.426162         0.72186   \n",
       "1      0.089319             1.720902  1.309354         0.72186   \n",
       "2      1.528187            -0.472639 -0.003926         0.72186   \n",
       "3      0.089319             1.720902  1.309354         0.72186   \n",
       "4      1.528187             1.720902 -1.425982         0.72186   \n",
       "...         ...                  ...       ...             ...   \n",
       "20007  1.528187            -0.723980  0.548529         0.72186   \n",
       "20008 -0.054568            -0.723980 -0.283858         0.72186   \n",
       "20009  0.233206            -0.723980 -1.425982         0.72186   \n",
       "20010 -0.126511            -0.624456 -0.037066         0.72186   \n",
       "20011 -1.169691            -0.723980 -0.210561         0.72186   \n",
       "\n",
       "       NUM_EMI_CHANGES  NUM_LOW_FREQ_TRANSACTIONS  OUTSTANDING_PRINCIPAL  \\\n",
       "0            -0.744605                  -1.037269              -0.753419   \n",
       "1            -0.744605                  -1.037269               1.714859   \n",
       "2            -0.744605                   1.255020              -0.420384   \n",
       "3             0.134979                   1.255020              -0.753419   \n",
       "4            -0.744605                   1.255020               1.714859   \n",
       "...                ...                        ...                    ...   \n",
       "20007        -0.744605                  -1.037269               1.714859   \n",
       "20008        -0.744605                  -1.037269              -0.519868   \n",
       "20009        -0.744605                  -1.037269               1.714859   \n",
       "20010        -0.744605                  -1.037269               1.714859   \n",
       "20011        -0.744605                  -1.037269               1.714859   \n",
       "\n",
       "       PAID_INTEREST  PAID_PRINCIPAL  \n",
       "0           1.718136        1.727863  \n",
       "1           1.718136        1.727863  \n",
       "2           1.718136        1.727863  \n",
       "3           1.718136        1.727863  \n",
       "4           1.718136        1.727863  \n",
       "...              ...             ...  \n",
       "20007      -0.726261       -0.649079  \n",
       "20008      -0.726261       -0.649079  \n",
       "20009      -0.726261       -0.649079  \n",
       "20010      -0.726261       -0.649079  \n",
       "20011      -0.726261       -0.649079  \n",
       "\n",
       "[20012 rows x 15 columns]"
      ]
     },
     "execution_count": 46,
     "metadata": {},
     "output_type": "execute_result"
    }
   ],
   "source": [
    "num_data_scaled"
   ]
  },
  {
   "cell_type": "code",
   "execution_count": 47,
   "metadata": {},
   "outputs": [
    {
     "data": {
      "text/plain": [
       "(20012, 15)"
      ]
     },
     "execution_count": 47,
     "metadata": {},
     "output_type": "execute_result"
    }
   ],
   "source": [
    "num_data_scaled.shape"
   ]
  },
  {
   "cell_type": "code",
   "execution_count": 48,
   "metadata": {},
   "outputs": [],
   "source": [
    "cat_data.drop(['LATEST_TRANSACTION_MONTH'],axis=1,inplace=True)"
   ]
  },
  {
   "cell_type": "code",
   "execution_count": 49,
   "metadata": {},
   "outputs": [],
   "source": [
    "cat_data_new = pd.get_dummies(cat_data,columns=['PRODUCT'],drop_first=True)"
   ]
  },
  {
   "cell_type": "code",
   "execution_count": 50,
   "metadata": {},
   "outputs": [
    {
     "data": {
      "text/html": [
       "<div>\n",
       "<style scoped>\n",
       "    .dataframe tbody tr th:only-of-type {\n",
       "        vertical-align: middle;\n",
       "    }\n",
       "\n",
       "    .dataframe tbody tr th {\n",
       "        vertical-align: top;\n",
       "    }\n",
       "\n",
       "    .dataframe thead th {\n",
       "        text-align: right;\n",
       "    }\n",
       "</style>\n",
       "<table border=\"1\" class=\"dataframe\">\n",
       "  <thead>\n",
       "    <tr style=\"text-align: right;\">\n",
       "      <th></th>\n",
       "      <th>FORECLOSURE</th>\n",
       "      <th>PRODUCT_LAP</th>\n",
       "      <th>PRODUCT_STHL</th>\n",
       "      <th>PRODUCT_STLAP</th>\n",
       "    </tr>\n",
       "  </thead>\n",
       "  <tbody>\n",
       "    <tr>\n",
       "      <th>0</th>\n",
       "      <td>1</td>\n",
       "      <td>0</td>\n",
       "      <td>0</td>\n",
       "      <td>0</td>\n",
       "    </tr>\n",
       "    <tr>\n",
       "      <th>1</th>\n",
       "      <td>1</td>\n",
       "      <td>0</td>\n",
       "      <td>0</td>\n",
       "      <td>0</td>\n",
       "    </tr>\n",
       "    <tr>\n",
       "      <th>2</th>\n",
       "      <td>1</td>\n",
       "      <td>0</td>\n",
       "      <td>0</td>\n",
       "      <td>0</td>\n",
       "    </tr>\n",
       "    <tr>\n",
       "      <th>3</th>\n",
       "      <td>1</td>\n",
       "      <td>0</td>\n",
       "      <td>0</td>\n",
       "      <td>0</td>\n",
       "    </tr>\n",
       "    <tr>\n",
       "      <th>4</th>\n",
       "      <td>1</td>\n",
       "      <td>0</td>\n",
       "      <td>0</td>\n",
       "      <td>0</td>\n",
       "    </tr>\n",
       "    <tr>\n",
       "      <th>...</th>\n",
       "      <td>...</td>\n",
       "      <td>...</td>\n",
       "      <td>...</td>\n",
       "      <td>...</td>\n",
       "    </tr>\n",
       "    <tr>\n",
       "      <th>20007</th>\n",
       "      <td>0</td>\n",
       "      <td>0</td>\n",
       "      <td>0</td>\n",
       "      <td>0</td>\n",
       "    </tr>\n",
       "    <tr>\n",
       "      <th>20008</th>\n",
       "      <td>0</td>\n",
       "      <td>0</td>\n",
       "      <td>0</td>\n",
       "      <td>0</td>\n",
       "    </tr>\n",
       "    <tr>\n",
       "      <th>20009</th>\n",
       "      <td>0</td>\n",
       "      <td>1</td>\n",
       "      <td>0</td>\n",
       "      <td>0</td>\n",
       "    </tr>\n",
       "    <tr>\n",
       "      <th>20010</th>\n",
       "      <td>0</td>\n",
       "      <td>1</td>\n",
       "      <td>0</td>\n",
       "      <td>0</td>\n",
       "    </tr>\n",
       "    <tr>\n",
       "      <th>20011</th>\n",
       "      <td>0</td>\n",
       "      <td>1</td>\n",
       "      <td>0</td>\n",
       "      <td>0</td>\n",
       "    </tr>\n",
       "  </tbody>\n",
       "</table>\n",
       "<p>20012 rows × 4 columns</p>\n",
       "</div>"
      ],
      "text/plain": [
       "      FORECLOSURE  PRODUCT_LAP  PRODUCT_STHL  PRODUCT_STLAP\n",
       "0               1            0             0              0\n",
       "1               1            0             0              0\n",
       "2               1            0             0              0\n",
       "3               1            0             0              0\n",
       "4               1            0             0              0\n",
       "...           ...          ...           ...            ...\n",
       "20007           0            0             0              0\n",
       "20008           0            0             0              0\n",
       "20009           0            1             0              0\n",
       "20010           0            1             0              0\n",
       "20011           0            1             0              0\n",
       "\n",
       "[20012 rows x 4 columns]"
      ]
     },
     "execution_count": 50,
     "metadata": {},
     "output_type": "execute_result"
    }
   ],
   "source": [
    "cat_data_new"
   ]
  },
  {
   "cell_type": "code",
   "execution_count": 51,
   "metadata": {},
   "outputs": [
    {
     "data": {
      "text/plain": [
       "BALANCE_TENURE                   float64\n",
       "COMPLETED_TENURE                 float64\n",
       "CURRENT_INTEREST_RATE_CHANGES    float64\n",
       "DIFF_EMI_AMOUNT_MAX_MIN          float64\n",
       "DIFF_ORIGINAL_CURRENT_TENOR      float64\n",
       "EMI_AMOUNT                       float64\n",
       "FOIR                             float64\n",
       "LAST_RECEIPT_AMOUNT              float64\n",
       "NET_LTV                          float64\n",
       "NET_RECEIVABLE                   float64\n",
       "NUM_EMI_CHANGES                  float64\n",
       "NUM_LOW_FREQ_TRANSACTIONS        float64\n",
       "OUTSTANDING_PRINCIPAL            float64\n",
       "PAID_INTEREST                    float64\n",
       "PAID_PRINCIPAL                   float64\n",
       "dtype: object"
      ]
     },
     "execution_count": 51,
     "metadata": {},
     "output_type": "execute_result"
    }
   ],
   "source": [
    "num_data_scaled.dtypes"
   ]
  },
  {
   "cell_type": "code",
   "execution_count": 52,
   "metadata": {},
   "outputs": [],
   "source": [
    "cat_data_new = cat_data_new.astype('int')"
   ]
  },
  {
   "cell_type": "markdown",
   "metadata": {},
   "source": [
    "Now combining both Numerical and Categorical features for Model building purpose."
   ]
  },
  {
   "cell_type": "code",
   "execution_count": 53,
   "metadata": {},
   "outputs": [],
   "source": [
    "loan_data = pd.concat([num_data_scaled,cat_data_new],axis=1)"
   ]
  },
  {
   "cell_type": "code",
   "execution_count": 54,
   "metadata": {},
   "outputs": [
    {
     "data": {
      "text/html": [
       "<div>\n",
       "<style scoped>\n",
       "    .dataframe tbody tr th:only-of-type {\n",
       "        vertical-align: middle;\n",
       "    }\n",
       "\n",
       "    .dataframe tbody tr th {\n",
       "        vertical-align: top;\n",
       "    }\n",
       "\n",
       "    .dataframe thead th {\n",
       "        text-align: right;\n",
       "    }\n",
       "</style>\n",
       "<table border=\"1\" class=\"dataframe\">\n",
       "  <thead>\n",
       "    <tr style=\"text-align: right;\">\n",
       "      <th></th>\n",
       "      <th>BALANCE_TENURE</th>\n",
       "      <th>COMPLETED_TENURE</th>\n",
       "      <th>CURRENT_INTEREST_RATE_CHANGES</th>\n",
       "      <th>DIFF_EMI_AMOUNT_MAX_MIN</th>\n",
       "      <th>DIFF_ORIGINAL_CURRENT_TENOR</th>\n",
       "      <th>EMI_AMOUNT</th>\n",
       "      <th>FOIR</th>\n",
       "      <th>LAST_RECEIPT_AMOUNT</th>\n",
       "      <th>NET_LTV</th>\n",
       "      <th>NET_RECEIVABLE</th>\n",
       "      <th>NUM_EMI_CHANGES</th>\n",
       "      <th>NUM_LOW_FREQ_TRANSACTIONS</th>\n",
       "      <th>OUTSTANDING_PRINCIPAL</th>\n",
       "      <th>PAID_INTEREST</th>\n",
       "      <th>PAID_PRINCIPAL</th>\n",
       "      <th>FORECLOSURE</th>\n",
       "      <th>PRODUCT_LAP</th>\n",
       "      <th>PRODUCT_STHL</th>\n",
       "      <th>PRODUCT_STLAP</th>\n",
       "    </tr>\n",
       "  </thead>\n",
       "  <tbody>\n",
       "    <tr>\n",
       "      <th>0</th>\n",
       "      <td>-1.412103</td>\n",
       "      <td>1.630326</td>\n",
       "      <td>0.050521</td>\n",
       "      <td>1.724856</td>\n",
       "      <td>0.692347</td>\n",
       "      <td>1.711600</td>\n",
       "      <td>0.089319</td>\n",
       "      <td>1.720902</td>\n",
       "      <td>-0.426162</td>\n",
       "      <td>0.72186</td>\n",
       "      <td>-0.744605</td>\n",
       "      <td>-1.037269</td>\n",
       "      <td>-0.753419</td>\n",
       "      <td>1.718136</td>\n",
       "      <td>1.727863</td>\n",
       "      <td>1</td>\n",
       "      <td>0</td>\n",
       "      <td>0</td>\n",
       "      <td>0</td>\n",
       "    </tr>\n",
       "    <tr>\n",
       "      <th>1</th>\n",
       "      <td>-1.412103</td>\n",
       "      <td>1.630326</td>\n",
       "      <td>-0.708510</td>\n",
       "      <td>-0.698768</td>\n",
       "      <td>0.692347</td>\n",
       "      <td>1.711600</td>\n",
       "      <td>0.089319</td>\n",
       "      <td>1.720902</td>\n",
       "      <td>1.309354</td>\n",
       "      <td>0.72186</td>\n",
       "      <td>-0.744605</td>\n",
       "      <td>-1.037269</td>\n",
       "      <td>1.714859</td>\n",
       "      <td>1.718136</td>\n",
       "      <td>1.727863</td>\n",
       "      <td>1</td>\n",
       "      <td>0</td>\n",
       "      <td>0</td>\n",
       "      <td>0</td>\n",
       "    </tr>\n",
       "    <tr>\n",
       "      <th>2</th>\n",
       "      <td>1.352109</td>\n",
       "      <td>1.630326</td>\n",
       "      <td>1.568583</td>\n",
       "      <td>1.724856</td>\n",
       "      <td>-1.656895</td>\n",
       "      <td>-0.421281</td>\n",
       "      <td>1.528187</td>\n",
       "      <td>-0.472639</td>\n",
       "      <td>-0.003926</td>\n",
       "      <td>0.72186</td>\n",
       "      <td>-0.744605</td>\n",
       "      <td>1.255020</td>\n",
       "      <td>-0.420384</td>\n",
       "      <td>1.718136</td>\n",
       "      <td>1.727863</td>\n",
       "      <td>1</td>\n",
       "      <td>0</td>\n",
       "      <td>0</td>\n",
       "      <td>0</td>\n",
       "    </tr>\n",
       "    <tr>\n",
       "      <th>3</th>\n",
       "      <td>-1.412103</td>\n",
       "      <td>1.630326</td>\n",
       "      <td>1.568583</td>\n",
       "      <td>1.724856</td>\n",
       "      <td>0.692347</td>\n",
       "      <td>1.711600</td>\n",
       "      <td>0.089319</td>\n",
       "      <td>1.720902</td>\n",
       "      <td>1.309354</td>\n",
       "      <td>0.72186</td>\n",
       "      <td>0.134979</td>\n",
       "      <td>1.255020</td>\n",
       "      <td>-0.753419</td>\n",
       "      <td>1.718136</td>\n",
       "      <td>1.727863</td>\n",
       "      <td>1</td>\n",
       "      <td>0</td>\n",
       "      <td>0</td>\n",
       "      <td>0</td>\n",
       "    </tr>\n",
       "    <tr>\n",
       "      <th>4</th>\n",
       "      <td>0.554321</td>\n",
       "      <td>1.630326</td>\n",
       "      <td>1.568583</td>\n",
       "      <td>-0.698768</td>\n",
       "      <td>-1.656895</td>\n",
       "      <td>1.711600</td>\n",
       "      <td>1.528187</td>\n",
       "      <td>1.720902</td>\n",
       "      <td>-1.425982</td>\n",
       "      <td>0.72186</td>\n",
       "      <td>-0.744605</td>\n",
       "      <td>1.255020</td>\n",
       "      <td>1.714859</td>\n",
       "      <td>1.718136</td>\n",
       "      <td>1.727863</td>\n",
       "      <td>1</td>\n",
       "      <td>0</td>\n",
       "      <td>0</td>\n",
       "      <td>0</td>\n",
       "    </tr>\n",
       "    <tr>\n",
       "      <th>...</th>\n",
       "      <td>...</td>\n",
       "      <td>...</td>\n",
       "      <td>...</td>\n",
       "      <td>...</td>\n",
       "      <td>...</td>\n",
       "      <td>...</td>\n",
       "      <td>...</td>\n",
       "      <td>...</td>\n",
       "      <td>...</td>\n",
       "      <td>...</td>\n",
       "      <td>...</td>\n",
       "      <td>...</td>\n",
       "      <td>...</td>\n",
       "      <td>...</td>\n",
       "      <td>...</td>\n",
       "      <td>...</td>\n",
       "      <td>...</td>\n",
       "      <td>...</td>\n",
       "      <td>...</td>\n",
       "    </tr>\n",
       "    <tr>\n",
       "      <th>20007</th>\n",
       "      <td>1.352109</td>\n",
       "      <td>-0.963773</td>\n",
       "      <td>-0.708510</td>\n",
       "      <td>-0.524513</td>\n",
       "      <td>0.692347</td>\n",
       "      <td>-0.780495</td>\n",
       "      <td>1.528187</td>\n",
       "      <td>-0.723980</td>\n",
       "      <td>0.548529</td>\n",
       "      <td>0.72186</td>\n",
       "      <td>-0.744605</td>\n",
       "      <td>-1.037269</td>\n",
       "      <td>1.714859</td>\n",
       "      <td>-0.726261</td>\n",
       "      <td>-0.649079</td>\n",
       "      <td>0</td>\n",
       "      <td>0</td>\n",
       "      <td>0</td>\n",
       "      <td>0</td>\n",
       "    </tr>\n",
       "    <tr>\n",
       "      <th>20008</th>\n",
       "      <td>1.352109</td>\n",
       "      <td>-0.963773</td>\n",
       "      <td>-0.708510</td>\n",
       "      <td>-0.698768</td>\n",
       "      <td>0.692347</td>\n",
       "      <td>-0.780495</td>\n",
       "      <td>-0.054568</td>\n",
       "      <td>-0.723980</td>\n",
       "      <td>-0.283858</td>\n",
       "      <td>0.72186</td>\n",
       "      <td>-0.744605</td>\n",
       "      <td>-1.037269</td>\n",
       "      <td>-0.519868</td>\n",
       "      <td>-0.726261</td>\n",
       "      <td>-0.649079</td>\n",
       "      <td>0</td>\n",
       "      <td>0</td>\n",
       "      <td>0</td>\n",
       "      <td>0</td>\n",
       "    </tr>\n",
       "    <tr>\n",
       "      <th>20009</th>\n",
       "      <td>-1.412103</td>\n",
       "      <td>-0.963773</td>\n",
       "      <td>-0.708510</td>\n",
       "      <td>-0.698768</td>\n",
       "      <td>0.692347</td>\n",
       "      <td>-0.780495</td>\n",
       "      <td>0.233206</td>\n",
       "      <td>-0.723980</td>\n",
       "      <td>-1.425982</td>\n",
       "      <td>0.72186</td>\n",
       "      <td>-0.744605</td>\n",
       "      <td>-1.037269</td>\n",
       "      <td>1.714859</td>\n",
       "      <td>-0.726261</td>\n",
       "      <td>-0.649079</td>\n",
       "      <td>0</td>\n",
       "      <td>1</td>\n",
       "      <td>0</td>\n",
       "      <td>0</td>\n",
       "    </tr>\n",
       "    <tr>\n",
       "      <th>20010</th>\n",
       "      <td>-1.412103</td>\n",
       "      <td>-0.963773</td>\n",
       "      <td>-0.708510</td>\n",
       "      <td>-0.698768</td>\n",
       "      <td>0.692347</td>\n",
       "      <td>-0.614500</td>\n",
       "      <td>-0.126511</td>\n",
       "      <td>-0.624456</td>\n",
       "      <td>-0.037066</td>\n",
       "      <td>0.72186</td>\n",
       "      <td>-0.744605</td>\n",
       "      <td>-1.037269</td>\n",
       "      <td>1.714859</td>\n",
       "      <td>-0.726261</td>\n",
       "      <td>-0.649079</td>\n",
       "      <td>0</td>\n",
       "      <td>1</td>\n",
       "      <td>0</td>\n",
       "      <td>0</td>\n",
       "    </tr>\n",
       "    <tr>\n",
       "      <th>20011</th>\n",
       "      <td>-1.412103</td>\n",
       "      <td>-0.963773</td>\n",
       "      <td>-0.708510</td>\n",
       "      <td>-0.698768</td>\n",
       "      <td>0.692347</td>\n",
       "      <td>-0.780495</td>\n",
       "      <td>-1.169691</td>\n",
       "      <td>-0.723980</td>\n",
       "      <td>-0.210561</td>\n",
       "      <td>0.72186</td>\n",
       "      <td>-0.744605</td>\n",
       "      <td>-1.037269</td>\n",
       "      <td>1.714859</td>\n",
       "      <td>-0.726261</td>\n",
       "      <td>-0.649079</td>\n",
       "      <td>0</td>\n",
       "      <td>1</td>\n",
       "      <td>0</td>\n",
       "      <td>0</td>\n",
       "    </tr>\n",
       "  </tbody>\n",
       "</table>\n",
       "<p>20012 rows × 19 columns</p>\n",
       "</div>"
      ],
      "text/plain": [
       "       BALANCE_TENURE  COMPLETED_TENURE  CURRENT_INTEREST_RATE_CHANGES  \\\n",
       "0           -1.412103          1.630326                       0.050521   \n",
       "1           -1.412103          1.630326                      -0.708510   \n",
       "2            1.352109          1.630326                       1.568583   \n",
       "3           -1.412103          1.630326                       1.568583   \n",
       "4            0.554321          1.630326                       1.568583   \n",
       "...               ...               ...                            ...   \n",
       "20007        1.352109         -0.963773                      -0.708510   \n",
       "20008        1.352109         -0.963773                      -0.708510   \n",
       "20009       -1.412103         -0.963773                      -0.708510   \n",
       "20010       -1.412103         -0.963773                      -0.708510   \n",
       "20011       -1.412103         -0.963773                      -0.708510   \n",
       "\n",
       "       DIFF_EMI_AMOUNT_MAX_MIN  DIFF_ORIGINAL_CURRENT_TENOR  EMI_AMOUNT  \\\n",
       "0                     1.724856                     0.692347    1.711600   \n",
       "1                    -0.698768                     0.692347    1.711600   \n",
       "2                     1.724856                    -1.656895   -0.421281   \n",
       "3                     1.724856                     0.692347    1.711600   \n",
       "4                    -0.698768                    -1.656895    1.711600   \n",
       "...                        ...                          ...         ...   \n",
       "20007                -0.524513                     0.692347   -0.780495   \n",
       "20008                -0.698768                     0.692347   -0.780495   \n",
       "20009                -0.698768                     0.692347   -0.780495   \n",
       "20010                -0.698768                     0.692347   -0.614500   \n",
       "20011                -0.698768                     0.692347   -0.780495   \n",
       "\n",
       "           FOIR  LAST_RECEIPT_AMOUNT   NET_LTV  NET_RECEIVABLE  \\\n",
       "0      0.089319             1.720902 -0.426162         0.72186   \n",
       "1      0.089319             1.720902  1.309354         0.72186   \n",
       "2      1.528187            -0.472639 -0.003926         0.72186   \n",
       "3      0.089319             1.720902  1.309354         0.72186   \n",
       "4      1.528187             1.720902 -1.425982         0.72186   \n",
       "...         ...                  ...       ...             ...   \n",
       "20007  1.528187            -0.723980  0.548529         0.72186   \n",
       "20008 -0.054568            -0.723980 -0.283858         0.72186   \n",
       "20009  0.233206            -0.723980 -1.425982         0.72186   \n",
       "20010 -0.126511            -0.624456 -0.037066         0.72186   \n",
       "20011 -1.169691            -0.723980 -0.210561         0.72186   \n",
       "\n",
       "       NUM_EMI_CHANGES  NUM_LOW_FREQ_TRANSACTIONS  OUTSTANDING_PRINCIPAL  \\\n",
       "0            -0.744605                  -1.037269              -0.753419   \n",
       "1            -0.744605                  -1.037269               1.714859   \n",
       "2            -0.744605                   1.255020              -0.420384   \n",
       "3             0.134979                   1.255020              -0.753419   \n",
       "4            -0.744605                   1.255020               1.714859   \n",
       "...                ...                        ...                    ...   \n",
       "20007        -0.744605                  -1.037269               1.714859   \n",
       "20008        -0.744605                  -1.037269              -0.519868   \n",
       "20009        -0.744605                  -1.037269               1.714859   \n",
       "20010        -0.744605                  -1.037269               1.714859   \n",
       "20011        -0.744605                  -1.037269               1.714859   \n",
       "\n",
       "       PAID_INTEREST  PAID_PRINCIPAL  FORECLOSURE  PRODUCT_LAP  PRODUCT_STHL  \\\n",
       "0           1.718136        1.727863            1            0             0   \n",
       "1           1.718136        1.727863            1            0             0   \n",
       "2           1.718136        1.727863            1            0             0   \n",
       "3           1.718136        1.727863            1            0             0   \n",
       "4           1.718136        1.727863            1            0             0   \n",
       "...              ...             ...          ...          ...           ...   \n",
       "20007      -0.726261       -0.649079            0            0             0   \n",
       "20008      -0.726261       -0.649079            0            0             0   \n",
       "20009      -0.726261       -0.649079            0            1             0   \n",
       "20010      -0.726261       -0.649079            0            1             0   \n",
       "20011      -0.726261       -0.649079            0            1             0   \n",
       "\n",
       "       PRODUCT_STLAP  \n",
       "0                  0  \n",
       "1                  0  \n",
       "2                  0  \n",
       "3                  0  \n",
       "4                  0  \n",
       "...              ...  \n",
       "20007              0  \n",
       "20008              0  \n",
       "20009              0  \n",
       "20010              0  \n",
       "20011              0  \n",
       "\n",
       "[20012 rows x 19 columns]"
      ]
     },
     "execution_count": 54,
     "metadata": {},
     "output_type": "execute_result"
    }
   ],
   "source": [
    "loan_data"
   ]
  },
  {
   "cell_type": "code",
   "execution_count": 55,
   "metadata": {},
   "outputs": [],
   "source": [
    "X = loan_data.drop(['FORECLOSURE'],axis=1)\n",
    "y = loan_data['FORECLOSURE']"
   ]
  },
  {
   "cell_type": "markdown",
   "metadata": {},
   "source": [
    "<h1> <b> MODEL BUILDING </b> </h1> "
   ]
  },
  {
   "cell_type": "markdown",
   "metadata": {},
   "source": [
    "Loading necessary libararies for model building, tuning and checking its performance metrics"
   ]
  },
  {
   "cell_type": "code",
   "execution_count": 56,
   "metadata": {},
   "outputs": [],
   "source": [
    "from sklearn.model_selection import train_test_split,GridSearchCV\n",
    "from sklearn.linear_model import LogisticRegression\n",
    "from sklearn.metrics import accuracy_score, confusion_matrix, roc_curve, roc_auc_score\n",
    "from sklearn.ensemble import RandomForestClassifier"
   ]
  },
  {
   "cell_type": "code",
   "execution_count": 57,
   "metadata": {},
   "outputs": [],
   "source": [
    "#splitting the dataset to train and test\n",
    "X_train,X_test,y_train,y_test = train_test_split(X,y,test_size=0.30,random_state=355)"
   ]
  },
  {
   "cell_type": "code",
   "execution_count": 58,
   "metadata": {},
   "outputs": [],
   "source": [
    "#since train set is huge, we again split test set to train and test.\n",
    "X_train_new,X_test_new,y_train_new,y_test_new = train_test_split(X_test,y_test,test_size=0.30,random_state=355)"
   ]
  },
  {
   "cell_type": "code",
   "execution_count": 59,
   "metadata": {},
   "outputs": [],
   "source": [
    "#As the dataset is imbalanced we balance it using SMOTE \n",
    "from imblearn.over_sampling import SMOTE\n",
    "sm = SMOTE(random_state=2)\n",
    "X_train_bal,y_train_bal = sm.fit_sample(X_train_new,y_train_new.ravel())"
   ]
  },
  {
   "cell_type": "markdown",
   "metadata": {},
   "source": [
    "Now lets build various classification models.\n",
    "\n",
    "1. Logistic Regression"
   ]
  },
  {
   "cell_type": "code",
   "execution_count": 60,
   "metadata": {},
   "outputs": [
    {
     "data": {
      "text/plain": [
       "LogisticRegression()"
      ]
     },
     "execution_count": 60,
     "metadata": {},
     "output_type": "execute_result"
    }
   ],
   "source": [
    "log_model = LogisticRegression()\n",
    "log_model.fit(X_train_bal,y_train_bal.ravel())"
   ]
  },
  {
   "cell_type": "code",
   "execution_count": 61,
   "metadata": {},
   "outputs": [],
   "source": [
    "Y_pred_log = log_model.predict(X_test_new)"
   ]
  },
  {
   "cell_type": "code",
   "execution_count": 62,
   "metadata": {},
   "outputs": [
    {
     "data": {
      "text/plain": [
       "0.8335183129855716"
      ]
     },
     "execution_count": 62,
     "metadata": {},
     "output_type": "execute_result"
    }
   ],
   "source": [
    "log_test_accuracy = accuracy_score(y_test_new,Y_pred_log)\n",
    "log_test_accuracy"
   ]
  },
  {
   "cell_type": "code",
   "execution_count": 63,
   "metadata": {},
   "outputs": [],
   "source": [
    "y_pred_train = log_model.predict(X_train_bal)"
   ]
  },
  {
   "cell_type": "code",
   "execution_count": 64,
   "metadata": {},
   "outputs": [
    {
     "data": {
      "text/plain": [
       "0.8702498698594482"
      ]
     },
     "execution_count": 64,
     "metadata": {},
     "output_type": "execute_result"
    }
   ],
   "source": [
    "log_train_accuracy = accuracy_score(y_train_bal,y_pred_train)\n",
    "log_train_accuracy"
   ]
  },
  {
   "cell_type": "markdown",
   "metadata": {},
   "source": [
    "Logistic Regression Model doesn't overfit as both Train and test accuracy are similiar"
   ]
  },
  {
   "cell_type": "markdown",
   "metadata": {},
   "source": [
    "2. Random Forest Model"
   ]
  },
  {
   "cell_type": "code",
   "execution_count": 65,
   "metadata": {},
   "outputs": [
    {
     "data": {
      "text/plain": [
       "RandomForestClassifier(random_state=5)"
      ]
     },
     "execution_count": 65,
     "metadata": {},
     "output_type": "execute_result"
    }
   ],
   "source": [
    "RF_model = RandomForestClassifier(random_state=5)\n",
    "RF_model.fit(X_train_bal,y_train_bal)"
   ]
  },
  {
   "cell_type": "code",
   "execution_count": 66,
   "metadata": {},
   "outputs": [
    {
     "data": {
      "text/plain": [
       "0.9831778814123917"
      ]
     },
     "execution_count": 66,
     "metadata": {},
     "output_type": "execute_result"
    }
   ],
   "source": [
    "RF_model.score(X_test,y_test)"
   ]
  },
  {
   "cell_type": "code",
   "execution_count": 67,
   "metadata": {},
   "outputs": [],
   "source": [
    "#Finding the best parameters using hyperparameters.\n",
    "grid_param = {\n",
    "    \"n_estimators\" : [101,201,301,351,401,501,601],\n",
    "    'criterion': ['gini', 'entropy'],\n",
    "    'max_depth' : [5,10,15,20],\n",
    "    'min_samples_leaf' : [1,2,3,4,5],\n",
    "    'min_samples_split': [4,5,6,7,8],\n",
    "    'max_features' : ['auto','log2']\n",
    "}\n"
   ]
  },
  {
   "cell_type": "code",
   "execution_count": 68,
   "metadata": {},
   "outputs": [],
   "source": [
    "grid_search = GridSearchCV(estimator=RF_model,param_grid=grid_param,cv=5,n_jobs=-1,verbose=3)"
   ]
  },
  {
   "cell_type": "code",
   "execution_count": null,
   "metadata": {},
   "outputs": [],
   "source": [
    "grid_search.fit(X_train_bal,y_train_bal)"
   ]
  },
  {
   "cell_type": "markdown",
   "metadata": {},
   "source": [
    "After grid search we get the following as thee best parameters:\n",
    "    \n",
    " {'criterion': 'entropy',\n",
    " 'max_depth': 20,\n",
    " 'max_features': 'auto',\n",
    " 'min_samples_leaf': 1,\n",
    " 'min_samples_split': 4,\n",
    " 'n_estimators': 501}"
   ]
  },
  {
   "cell_type": "code",
   "execution_count": 69,
   "metadata": {},
   "outputs": [
    {
     "data": {
      "text/plain": [
       "RandomForestClassifier(criterion='entropy', max_depth=20, min_samples_split=4,\n",
       "                       n_estimators=501)"
      ]
     },
     "execution_count": 69,
     "metadata": {},
     "output_type": "execute_result"
    }
   ],
   "source": [
    "RF_model = RandomForestClassifier(n_estimators=501,criterion='entropy',max_depth=20, max_features='auto',min_samples_leaf=1,min_samples_split=4)\n",
    "RF_model.fit(X_train_bal,y_train_bal)"
   ]
  },
  {
   "cell_type": "code",
   "execution_count": 70,
   "metadata": {},
   "outputs": [
    {
     "data": {
      "text/plain": [
       "0.9411764705882353"
      ]
     },
     "execution_count": 70,
     "metadata": {},
     "output_type": "execute_result"
    }
   ],
   "source": [
    "RF_model.score(X_test_new,y_test_new)"
   ]
  },
  {
   "cell_type": "code",
   "execution_count": 71,
   "metadata": {},
   "outputs": [
    {
     "data": {
      "text/plain": [
       "array([0.05248919, 0.09738983, 0.05969527, 0.03746446, 0.04193382,\n",
       "       0.04512747, 0.03266137, 0.05633224, 0.03487656, 0.0263788 ,\n",
       "       0.02451489, 0.0243076 , 0.03107027, 0.08972689, 0.05816677,\n",
       "       0.17762203, 0.02435351, 0.08588903])"
      ]
     },
     "execution_count": 71,
     "metadata": {},
     "output_type": "execute_result"
    }
   ],
   "source": [
    "RF_model.feature_importances_"
   ]
  },
  {
   "cell_type": "code",
   "execution_count": 72,
   "metadata": {},
   "outputs": [
    {
     "data": {
      "text/plain": [
       "BALANCE_TENURE                   0.052489\n",
       "COMPLETED_TENURE                 0.097390\n",
       "CURRENT_INTEREST_RATE_CHANGES    0.059695\n",
       "DIFF_EMI_AMOUNT_MAX_MIN          0.037464\n",
       "DIFF_ORIGINAL_CURRENT_TENOR      0.041934\n",
       "EMI_AMOUNT                       0.045127\n",
       "FOIR                             0.032661\n",
       "LAST_RECEIPT_AMOUNT              0.056332\n",
       "NET_LTV                          0.034877\n",
       "NET_RECEIVABLE                   0.026379\n",
       "NUM_EMI_CHANGES                  0.024515\n",
       "NUM_LOW_FREQ_TRANSACTIONS        0.024308\n",
       "OUTSTANDING_PRINCIPAL            0.031070\n",
       "PAID_INTEREST                    0.089727\n",
       "PAID_PRINCIPAL                   0.058167\n",
       "PRODUCT_LAP                      0.177622\n",
       "PRODUCT_STHL                     0.024354\n",
       "PRODUCT_STLAP                    0.085889\n",
       "dtype: float64"
      ]
     },
     "execution_count": 72,
     "metadata": {},
     "output_type": "execute_result"
    }
   ],
   "source": [
    "Imp_features = pd.Series(RF_model.feature_importances_,index=X_train_bal.columns)\n",
    "Imp_features"
   ]
  },
  {
   "cell_type": "code",
   "execution_count": 73,
   "metadata": {},
   "outputs": [
    {
     "data": {
      "text/plain": [
       "<matplotlib.axes._subplots.AxesSubplot at 0x2398d05fe88>"
      ]
     },
     "execution_count": 73,
     "metadata": {},
     "output_type": "execute_result"
    },
    {
     "data": {
      "image/png": "[encoded data removed]",
      "text/plain": [
       "<Figure size 432x288 with 1 Axes>"
      ]
     },
     "metadata": {
      "needs_background": "light"
     },
     "output_type": "display_data"
    }
   ],
   "source": [
    "Imp_features.nlargest(9).plot(kind='bar')"
   ]
  },
  {
   "cell_type": "code",
   "execution_count": 75,
   "metadata": {},
   "outputs": [],
   "source": [
    "y_pred_rf = RF_model.predict(X_test_new)"
   ]
  },
  {
   "cell_type": "markdown",
   "metadata": {},
   "source": [
    "3. KNN model"
   ]
  },
  {
   "cell_type": "code",
   "execution_count": 76,
   "metadata": {},
   "outputs": [
    {
     "data": {
      "text/plain": [
       "KNeighborsClassifier()"
      ]
     },
     "execution_count": 76,
     "metadata": {},
     "output_type": "execute_result"
    }
   ],
   "source": [
    "from sklearn.neighbors import KNeighborsClassifier\n",
    "KNN_model = KNeighborsClassifier()\n",
    "KNN_model.fit(X_train_bal,y_train_bal)"
   ]
  },
  {
   "cell_type": "code",
   "execution_count": 77,
   "metadata": {},
   "outputs": [
    {
     "data": {
      "text/plain": [
       "0.8240843507214206"
      ]
     },
     "execution_count": 77,
     "metadata": {},
     "output_type": "execute_result"
    }
   ],
   "source": [
    "KNN_model.score(X_test_new,y_test_new)"
   ]
  },
  {
   "cell_type": "code",
   "execution_count": 78,
   "metadata": {},
   "outputs": [
    {
     "data": {
      "text/plain": [
       "0.9426080166579907"
      ]
     },
     "execution_count": 78,
     "metadata": {},
     "output_type": "execute_result"
    }
   ],
   "source": [
    "KNN_model.score(X_train_bal,y_train_bal)"
   ]
  },
  {
   "cell_type": "code",
   "execution_count": 79,
   "metadata": {},
   "outputs": [],
   "source": [
    "param_grid = { 'algorithm' : ['ball_tree', 'kd_tree', 'brute'],\n",
    "               'leaf_size' : [18,20,25,27,30,32,34],\n",
    "               'n_neighbors' : [3,5,7,9,10,11,12,13]\n",
    "              }"
   ]
  },
  {
   "cell_type": "code",
   "execution_count": 80,
   "metadata": {},
   "outputs": [],
   "source": [
    "gridsearch = GridSearchCV(KNN_model, param_grid,n_jobs=-1,verbose=3)"
   ]
  },
  {
   "cell_type": "code",
   "execution_count": 81,
   "metadata": {},
   "outputs": [
    {
     "name": "stdout",
     "output_type": "stream",
     "text": [
      "Fitting 5 folds for each of 168 candidates, totalling 840 fits\n"
     ]
    },
    {
     "data": {
      "text/plain": [
       "GridSearchCV(estimator=KNeighborsClassifier(), n_jobs=-1,\n",
       "             param_grid={'algorithm': ['ball_tree', 'kd_tree', 'brute'],\n",
       "                         'leaf_size': [18, 20, 25, 27, 30, 32, 34],\n",
       "                         'n_neighbors': [3, 5, 7, 9, 10, 11, 12, 13]},\n",
       "             verbose=3)"
      ]
     },
     "execution_count": 81,
     "metadata": {},
     "output_type": "execute_result"
    }
   ],
   "source": [
    "gridsearch.fit(X_train_bal,y_train_bal)"
   ]
  },
  {
   "cell_type": "code",
   "execution_count": 82,
   "metadata": {},
   "outputs": [
    {
     "data": {
      "text/plain": [
       "{'algorithm': 'ball_tree', 'leaf_size': 18, 'n_neighbors': 3}"
      ]
     },
     "execution_count": 82,
     "metadata": {},
     "output_type": "execute_result"
    }
   ],
   "source": [
    "gridsearch.best_params_"
   ]
  },
  {
   "cell_type": "code",
   "execution_count": 83,
   "metadata": {},
   "outputs": [],
   "source": [
    "KNN_model = KNeighborsClassifier(algorithm='ball_tree',leaf_size=18,n_neighbors=3)"
   ]
  },
  {
   "cell_type": "code",
   "execution_count": 84,
   "metadata": {},
   "outputs": [
    {
     "data": {
      "text/plain": [
       "KNeighborsClassifier(algorithm='ball_tree', leaf_size=18, n_neighbors=3)"
      ]
     },
     "execution_count": 84,
     "metadata": {},
     "output_type": "execute_result"
    }
   ],
   "source": [
    "KNN_model.fit(X_train_bal,y_train_bal)"
   ]
  },
  {
   "cell_type": "code",
   "execution_count": 85,
   "metadata": {},
   "outputs": [
    {
     "data": {
      "text/plain": [
       "0.8485016648168702"
      ]
     },
     "execution_count": 85,
     "metadata": {},
     "output_type": "execute_result"
    }
   ],
   "source": [
    "KNN_model.score(X_test_new,y_test_new)"
   ]
  },
  {
   "cell_type": "code",
   "execution_count": 86,
   "metadata": {},
   "outputs": [
    {
     "data": {
      "text/plain": [
       "0.9619989588755856"
      ]
     },
     "execution_count": 86,
     "metadata": {},
     "output_type": "execute_result"
    }
   ],
   "source": [
    "KNN_model.score(X_train_bal,y_train_bal)"
   ]
  },
  {
   "cell_type": "markdown",
   "metadata": {},
   "source": [
    "# MODEL VALIDATION AND PERFORMANCE METRICS"
   ]
  },
  {
   "cell_type": "code",
   "execution_count": 87,
   "metadata": {},
   "outputs": [],
   "source": [
    "from sklearn.metrics import accuracy_score, confusion_matrix, roc_curve, roc_auc_score"
   ]
  },
  {
   "cell_type": "markdown",
   "metadata": {},
   "source": [
    "1.Logistic Regression"
   ]
  },
  {
   "cell_type": "code",
   "execution_count": 88,
   "metadata": {},
   "outputs": [
    {
     "data": {
      "text/plain": [
       "array([[1377,  284],\n",
       "       [  16,  125]], dtype=int64)"
      ]
     },
     "execution_count": 88,
     "metadata": {},
     "output_type": "execute_result"
    }
   ],
   "source": [
    "##Confusion Matrix\n",
    "\n",
    "conf_mat_log = confusion_matrix(y_test_new,Y_pred_log)\n",
    "conf_mat_log"
   ]
  },
  {
   "cell_type": "code",
   "execution_count": 89,
   "metadata": {},
   "outputs": [],
   "source": [
    "true_positive = conf_mat_log[0][0]\n",
    "false_positive = conf_mat_log[0][1]\n",
    "false_negative = conf_mat_log[1][0]\n",
    "true_negative = conf_mat_log[1][1]"
   ]
  },
  {
   "cell_type": "code",
   "execution_count": 90,
   "metadata": {},
   "outputs": [
    {
     "data": {
      "text/plain": [
       "0.8335183129855716"
      ]
     },
     "execution_count": 90,
     "metadata": {},
     "output_type": "execute_result"
    }
   ],
   "source": [
    "accuracy_log = (true_positive+true_negative)/(true_positive+false_positive+false_negative+true_negative)\n",
    "accuracy_log"
   ]
  },
  {
   "cell_type": "code",
   "execution_count": 91,
   "metadata": {},
   "outputs": [
    {
     "data": {
      "text/plain": [
       "0.9885139985642498"
      ]
     },
     "execution_count": 91,
     "metadata": {},
     "output_type": "execute_result"
    }
   ],
   "source": [
    "sensitivity_log = true_positive/(true_positive+false_negative)\n",
    "sensitivity_log"
   ]
  },
  {
   "cell_type": "code",
   "execution_count": 92,
   "metadata": {},
   "outputs": [
    {
     "data": {
      "text/plain": [
       "0.3056234718826406"
      ]
     },
     "execution_count": 92,
     "metadata": {},
     "output_type": "execute_result"
    }
   ],
   "source": [
    "specificity_log = true_negative/(true_negative+false_positive)\n",
    "specificity_log"
   ]
  },
  {
   "cell_type": "code",
   "execution_count": 93,
   "metadata": {},
   "outputs": [
    {
     "data": {
      "text/plain": [
       "0.8290186634557496"
      ]
     },
     "execution_count": 93,
     "metadata": {},
     "output_type": "execute_result"
    }
   ],
   "source": [
    "precision_log = true_positive/(true_positive+false_positive)\n",
    "precision_log"
   ]
  },
  {
   "cell_type": "code",
   "execution_count": 94,
   "metadata": {},
   "outputs": [
    {
     "data": {
      "text/plain": [
       "0.9017681728880157"
      ]
     },
     "execution_count": 94,
     "metadata": {},
     "output_type": "execute_result"
    }
   ],
   "source": [
    "F1_score_log = 2*(sensitivity_log*precision_log)/(sensitivity_log+precision_log)\n",
    "F1_score_log"
   ]
  },
  {
   "cell_type": "code",
   "execution_count": 95,
   "metadata": {},
   "outputs": [
    {
     "data": {
      "text/plain": [
       "0.8577717430753924"
      ]
     },
     "execution_count": 95,
     "metadata": {},
     "output_type": "execute_result"
    }
   ],
   "source": [
    "AUC_log = roc_auc_score(y_test_new,Y_pred_log)\n",
    "AUC_log"
   ]
  },
  {
   "cell_type": "code",
   "execution_count": 96,
   "metadata": {},
   "outputs": [],
   "source": [
    "fpr, tpr, thresholds = roc_curve(y_test_new, Y_pred_log)"
   ]
  },
  {
   "cell_type": "code",
   "execution_count": 97,
   "metadata": {},
   "outputs": [
    {
     "data": {
      "image/png": "[encoded data removed]",
      "text/plain": [
       "<Figure size 432x288 with 1 Axes>"
      ]
     },
     "metadata": {
      "needs_background": "light"
     },
     "output_type": "display_data"
    }
   ],
   "source": [
    "plt.plot(fpr, tpr, color='orange', label='ROC')\n",
    "plt.plot([0, 1], [0, 1], color='darkblue', linestyle='--',label='ROC curve (area = %0.2f)' % AUC_log)\n",
    "plt.xlabel('False Positive Rate')\n",
    "plt.ylabel('True Positive Rate')\n",
    "plt.title('Receiver Operating Characteristic (ROC) Curve')\n",
    "plt.legend()\n",
    "plt.show()"
   ]
  },
  {
   "cell_type": "markdown",
   "metadata": {},
   "source": [
    "2. Random Forest"
   ]
  },
  {
   "cell_type": "code",
   "execution_count": 98,
   "metadata": {},
   "outputs": [
    {
     "data": {
      "text/plain": [
       "array([[1610,   51],\n",
       "       [  55,   86]], dtype=int64)"
      ]
     },
     "execution_count": 98,
     "metadata": {},
     "output_type": "execute_result"
    }
   ],
   "source": [
    "conf_mat_RF = confusion_matrix(y_test_new,y_pred_rf)\n",
    "conf_mat_RF"
   ]
  },
  {
   "cell_type": "code",
   "execution_count": 99,
   "metadata": {},
   "outputs": [],
   "source": [
    "true_positive_rf = conf_mat_RF[0][0]\n",
    "false_positive_rf = conf_mat_RF[0][1]\n",
    "false_negative_rf = conf_mat_RF[1][0]\n",
    "true_negative_rf = conf_mat_RF[1][1]"
   ]
  },
  {
   "cell_type": "code",
   "execution_count": 100,
   "metadata": {},
   "outputs": [
    {
     "data": {
      "text/plain": [
       "0.9411764705882353"
      ]
     },
     "execution_count": 100,
     "metadata": {},
     "output_type": "execute_result"
    }
   ],
   "source": [
    "accuracy_RF = (true_positive_rf+true_negative_rf)/(true_positive_rf+false_positive_rf+false_negative_rf+true_negative_rf)\n",
    "accuracy_RF"
   ]
  },
  {
   "cell_type": "code",
   "execution_count": 101,
   "metadata": {},
   "outputs": [
    {
     "data": {
      "text/plain": [
       "0.9669669669669669"
      ]
     },
     "execution_count": 101,
     "metadata": {},
     "output_type": "execute_result"
    }
   ],
   "source": [
    "sensitivity_RF = true_positive_rf/(true_positive_rf+false_negative_rf)\n",
    "sensitivity_RF"
   ]
  },
  {
   "cell_type": "code",
   "execution_count": 102,
   "metadata": {},
   "outputs": [
    {
     "data": {
      "text/plain": [
       "0.6277372262773723"
      ]
     },
     "execution_count": 102,
     "metadata": {},
     "output_type": "execute_result"
    }
   ],
   "source": [
    "specificity_RF = true_negative_rf/(true_negative_rf+false_positive_rf)\n",
    "specificity_RF"
   ]
  },
  {
   "cell_type": "code",
   "execution_count": 103,
   "metadata": {},
   "outputs": [
    {
     "data": {
      "text/plain": [
       "0.9692956050571945"
      ]
     },
     "execution_count": 103,
     "metadata": {},
     "output_type": "execute_result"
    }
   ],
   "source": [
    "precision_RF = true_positive_rf/(true_positive_rf+false_positive_rf)\n",
    "precision_RF"
   ]
  },
  {
   "cell_type": "code",
   "execution_count": 104,
   "metadata": {},
   "outputs": [
    {
     "data": {
      "text/plain": [
       "0.9681298857486469"
      ]
     },
     "execution_count": 104,
     "metadata": {},
     "output_type": "execute_result"
    }
   ],
   "source": [
    "F1_score_RF = 2*(sensitivity_RF*precision_RF)/(sensitivity_RF+precision_RF)\n",
    "F1_score_RF"
   ]
  },
  {
   "cell_type": "code",
   "execution_count": 105,
   "metadata": {},
   "outputs": [
    {
     "data": {
      "text/plain": [
       "0.7896123415356895"
      ]
     },
     "execution_count": 105,
     "metadata": {},
     "output_type": "execute_result"
    }
   ],
   "source": [
    "AUC_RF = roc_auc_score(y_test_new,y_pred_rf)\n",
    "AUC_RF"
   ]
  },
  {
   "cell_type": "code",
   "execution_count": 106,
   "metadata": {},
   "outputs": [
    {
     "data": {
      "image/png": "[encoded data removed]",
      "text/plain": [
       "<Figure size 432x288 with 1 Axes>"
      ]
     },
     "metadata": {
      "needs_background": "light"
     },
     "output_type": "display_data"
    }
   ],
   "source": [
    "fpr, tpr, thresholds = roc_curve(y_test_new, y_pred_rf)\n",
    "plt.plot(fpr, tpr, color='orange', label='ROC')\n",
    "plt.plot([0, 1], [0, 1], color='darkblue', linestyle='--',label='ROC curve (area = %0.2f)' % AUC_RF)\n",
    "plt.xlabel('False Positive Rate')\n",
    "plt.ylabel('True Positive Rate')\n",
    "plt.title('Receiver Operating Characteristic (ROC) Curve')\n",
    "plt.legend()\n",
    "plt.show()"
   ]
  },
  {
   "cell_type": "markdown",
   "metadata": {},
   "source": [
    "3. knn"
   ]
  },
  {
   "cell_type": "code",
   "execution_count": 107,
   "metadata": {},
   "outputs": [
    {
     "data": {
      "text/plain": [
       "array([[1451,  210],\n",
       "       [  63,   78]], dtype=int64)"
      ]
     },
     "execution_count": 107,
     "metadata": {},
     "output_type": "execute_result"
    }
   ],
   "source": [
    "y_pred_knn = KNN_model.predict(X_test_new)\n",
    "conf_mat_knn = confusion_matrix(y_test_new,y_pred_knn)\n",
    "conf_mat_knn"
   ]
  },
  {
   "cell_type": "code",
   "execution_count": 108,
   "metadata": {},
   "outputs": [],
   "source": [
    "true_positive_knn = conf_mat_knn[0][0]\n",
    "false_positive_knn = conf_mat_knn[0][1]\n",
    "false_negative_knn = conf_mat_knn[1][0]\n",
    "true_negative_knn = conf_mat_knn[1][1]"
   ]
  },
  {
   "cell_type": "code",
   "execution_count": 109,
   "metadata": {},
   "outputs": [
    {
     "data": {
      "text/plain": [
       "0.8485016648168702"
      ]
     },
     "execution_count": 109,
     "metadata": {},
     "output_type": "execute_result"
    }
   ],
   "source": [
    "accuracy_knn = (true_positive_knn+true_negative_knn)/(true_positive_knn+false_positive_knn+false_negative_knn+true_negative_knn)\n",
    "accuracy_knn"
   ]
  },
  {
   "cell_type": "code",
   "execution_count": 110,
   "metadata": {},
   "outputs": [
    {
     "data": {
      "text/plain": [
       "0.9583883751651255"
      ]
     },
     "execution_count": 110,
     "metadata": {},
     "output_type": "execute_result"
    }
   ],
   "source": [
    "sensitivity_knn = true_positive_knn/(true_positive_knn+false_negative_knn)\n",
    "sensitivity_knn"
   ]
  },
  {
   "cell_type": "code",
   "execution_count": 111,
   "metadata": {},
   "outputs": [
    {
     "data": {
      "text/plain": [
       "0.2708333333333333"
      ]
     },
     "execution_count": 111,
     "metadata": {},
     "output_type": "execute_result"
    }
   ],
   "source": [
    "specificity_knn = true_negative_knn/(true_negative_knn+false_positive_knn)\n",
    "specificity_knn"
   ]
  },
  {
   "cell_type": "code",
   "execution_count": 112,
   "metadata": {},
   "outputs": [
    {
     "data": {
      "text/plain": [
       "0.8735701384708007"
      ]
     },
     "execution_count": 112,
     "metadata": {},
     "output_type": "execute_result"
    }
   ],
   "source": [
    "precision_knn = true_positive_knn/(true_positive_knn+false_positive_knn)\n",
    "precision_knn"
   ]
  },
  {
   "cell_type": "code",
   "execution_count": 113,
   "metadata": {},
   "outputs": [
    {
     "data": {
      "text/plain": [
       "0.9140157480314961"
      ]
     },
     "execution_count": 113,
     "metadata": {},
     "output_type": "execute_result"
    }
   ],
   "source": [
    "F1_score_knn = 2*(sensitivity_knn*precision_knn)/(sensitivity_knn+precision_knn)\n",
    "F1_score_knn"
   ]
  },
  {
   "cell_type": "code",
   "execution_count": 114,
   "metadata": {},
   "outputs": [
    {
     "data": {
      "text/plain": [
       "0.7133808139162515"
      ]
     },
     "execution_count": 114,
     "metadata": {},
     "output_type": "execute_result"
    }
   ],
   "source": [
    "AUC_knn = roc_auc_score(y_test_new,y_pred_knn)\n",
    "AUC_knn"
   ]
  },
  {
   "cell_type": "code",
   "execution_count": 115,
   "metadata": {},
   "outputs": [
    {
     "data": {
      "image/png": "[encoded data removed]",
      "text/plain": [
       "<Figure size 432x288 with 1 Axes>"
      ]
     },
     "metadata": {
      "needs_background": "light"
     },
     "output_type": "display_data"
    }
   ],
   "source": [
    "fpr, tpr, thresholds = roc_curve(y_test_new, y_pred_knn)\n",
    "plt.plot(fpr, tpr, color='orange', label='ROC')\n",
    "plt.plot([0, 1], [0, 1], color='darkblue', linestyle='--',label='ROC curve (area = %0.2f)' % AUC_knn)\n",
    "plt.xlabel('False Positive Rate')\n",
    "plt.ylabel('True Positive Rate')\n",
    "plt.title('Receiver Operating Characteristic (ROC) Curve')\n",
    "plt.legend()\n",
    "plt.show()"
   ]
  },
  {
   "cell_type": "code",
   "execution_count": 118,
   "metadata": {},
   "outputs": [],
   "source": [
    "import pickle\n",
    "with open('RFmodel.sav','wb') as f:\n",
    "    pickle.dump(RF_model,f)\n",
    "    \n",
    "with open('Scalar.sav','wb') as f:\n",
    "    pickle.dump(scaler,f)"
   ]
  }
 ],
 "metadata": {
  "kernelspec": {
   "display_name": "Python 3",
   "language": "python",
   "name": "python3"
  },
  "language_info": {
   "codemirror_mode": {
    "name": "ipython",
    "version": 3
   },
   "file_extension": ".py",
   "mimetype": "text/x-python",
   "name": "python",
   "nbconvert_exporter": "python",
   "pygments_lexer": "ipython3",
   "version": "3.7.6"
  },
  "toc": {
   "base_numbering": 1,
   "nav_menu": {},
   "number_sections": true,
   "sideBar": true,
   "skip_h1_title": false,
   "title_cell": "Table of Contents",
   "title_sidebar": "Contents",
   "toc_cell": false,
   "toc_position": {},
   "toc_section_display": true,
   "toc_window_display": false
  }
 },
 "nbformat": 4,
 "nbformat_minor": 4
}
